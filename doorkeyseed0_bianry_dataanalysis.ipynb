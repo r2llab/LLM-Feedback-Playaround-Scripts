{
 "cells": [
  {
   "cell_type": "code",
   "execution_count": 1,
   "id": "paperback-visiting",
   "metadata": {},
   "outputs": [],
   "source": [
    "import numpy as np\n",
    "import matplotlib.pyplot as plt"
   ]
  },
  {
   "cell_type": "code",
   "execution_count": 2,
   "id": "diverse-chapter",
   "metadata": {},
   "outputs": [
    {
     "name": "stdout",
     "output_type": "stream",
     "text": [
      "Defaulting to user installation because normal site-packages is not writeable\n",
      "Requirement already satisfied: seaborn in /fs01/home/yuxuanli/.local/lib/python3.7/site-packages (0.12.2)\n",
      "Requirement already satisfied: typing_extensions in /fs01/home/yuxuanli/.local/lib/python3.7/site-packages (from seaborn) (4.7.1)\n",
      "Requirement already satisfied: numpy!=1.24.0,>=1.17 in /fs01/home/yuxuanli/.local/lib/python3.7/site-packages (from seaborn) (1.21.6)\n",
      "Requirement already satisfied: matplotlib!=3.6.1,>=3.1 in /fs01/home/yuxuanli/.local/lib/python3.7/site-packages (from seaborn) (3.5.3)\n",
      "Requirement already satisfied: pandas>=0.25 in /fs01/home/yuxuanli/.local/lib/python3.7/site-packages (from seaborn) (1.3.5)\n",
      "Requirement already satisfied: python-dateutil>=2.7 in /fs01/pkgs/jupyterhub/lib/python3.7/site-packages (from matplotlib!=3.6.1,>=3.1->seaborn) (2.8.1)\n",
      "Requirement already satisfied: cycler>=0.10 in /fs01/home/yuxuanli/.local/lib/python3.7/site-packages (from matplotlib!=3.6.1,>=3.1->seaborn) (0.11.0)\n",
      "Requirement already satisfied: kiwisolver>=1.0.1 in /fs01/home/yuxuanli/.local/lib/python3.7/site-packages (from matplotlib!=3.6.1,>=3.1->seaborn) (1.4.5)\n",
      "Requirement already satisfied: packaging>=20.0 in /fs01/pkgs/jupyterhub/lib/python3.7/site-packages (from matplotlib!=3.6.1,>=3.1->seaborn) (20.9)\n",
      "Requirement already satisfied: fonttools>=4.22.0 in /fs01/home/yuxuanli/.local/lib/python3.7/site-packages (from matplotlib!=3.6.1,>=3.1->seaborn) (4.38.0)\n",
      "Requirement already satisfied: pyparsing>=2.2.1 in /fs01/pkgs/jupyterhub/lib/python3.7/site-packages (from matplotlib!=3.6.1,>=3.1->seaborn) (2.4.7)\n",
      "Requirement already satisfied: pillow>=6.2.0 in /fs01/home/yuxuanli/.local/lib/python3.7/site-packages (from matplotlib!=3.6.1,>=3.1->seaborn) (9.5.0)\n",
      "Requirement already satisfied: pytz>=2017.3 in /fs01/pkgs/jupyterhub/lib/python3.7/site-packages (from pandas>=0.25->seaborn) (2021.1)\n",
      "Requirement already satisfied: six>=1.5 in /fs01/pkgs/jupyterhub/lib/python3.7/site-packages (from python-dateutil>=2.7->matplotlib!=3.6.1,>=3.1->seaborn) (1.15.0)\n"
     ]
    }
   ],
   "source": [
    "!pip install seaborn\n",
    "import seaborn as sns"
   ]
  },
  {
   "cell_type": "code",
   "execution_count": 9,
   "id": "exterior-generator",
   "metadata": {},
   "outputs": [],
   "source": [
    "feedback_array = np.load(\"doorkeyseed0_feedback_array.npy\")\n",
    "expert_feedback_array = np.load(\"doorkeyseed0_expert_feedback_array.npy\", )\n",
    "correct_or_not = np.load(\"doorkeyseed0_binary_correct_or_not.npy\", )\n",
    "response_array = np.load(\"doorkeyseed0_binary_response.npy\")        "
   ]
  },
  {
   "cell_type": "code",
   "execution_count": 10,
   "id": "smooth-portal",
   "metadata": {},
   "outputs": [],
   "source": [
    "response_array = response_array.reshape(feedback_array.shape)"
   ]
  },
  {
   "cell_type": "code",
   "execution_count": 11,
   "id": "amazing-print",
   "metadata": {},
   "outputs": [
    {
     "data": {
      "text/plain": [
       "array([[[1, 1, 1, 1, 1],\n",
       "        [0, 0, 0, 0, 0],\n",
       "        [1, 1, 1, 1, 1],\n",
       "        [1, 0, 1, 0, 0],\n",
       "        [1, 1, 1, 1, 1]],\n",
       "\n",
       "       [[1, 1, 1, 0, 1],\n",
       "        [1, 1, 1, 1, 1],\n",
       "        [1, 1, 1, 1, 1],\n",
       "        [1, 1, 1, 1, 1],\n",
       "        [1, 1, 1, 1, 1]],\n",
       "\n",
       "       [[0, 1, 1, 1, 1],\n",
       "        [0, 0, 1, 1, 1],\n",
       "        [0, 0, 0, 0, 0],\n",
       "        [0, 1, 0, 1, 0],\n",
       "        [1, 1, 1, 1, 1]],\n",
       "\n",
       "       [[0, 1, 1, 1, 0],\n",
       "        [1, 0, 0, 1, 0],\n",
       "        [0, 1, 0, 0, 0],\n",
       "        [1, 0, 0, 0, 1],\n",
       "        [1, 1, 1, 1, 1]],\n",
       "\n",
       "       [[1, 1, 1, 1, 1],\n",
       "        [0, 0, 1, 0, 1],\n",
       "        [1, 1, 1, 1, 1],\n",
       "        [0, 0, 0, 1, 1],\n",
       "        [1, 1, 1, 1, 1]],\n",
       "\n",
       "       [[1, 1, 1, 1, 1],\n",
       "        [1, 1, 1, 1, 0],\n",
       "        [1, 1, 0, 1, 1],\n",
       "        [0, 0, 0, 0, 0],\n",
       "        [0, 0, 0, 0, 0]],\n",
       "\n",
       "       [[1, 1, 0, 1, 1],\n",
       "        [0, 1, 0, 1, 1],\n",
       "        [0, 0, 0, 0, 1],\n",
       "        [0, 0, 0, 0, 0],\n",
       "        [1, 1, 1, 1, 1]],\n",
       "\n",
       "       [[1, 1, 1, 0, 1],\n",
       "        [1, 1, 1, 1, 1],\n",
       "        [0, 1, 0, 0, 0],\n",
       "        [0, 0, 0, 0, 0],\n",
       "        [1, 1, 1, 1, 1]],\n",
       "\n",
       "       [[1, 1, 1, 1, 1],\n",
       "        [1, 0, 0, 1, 0],\n",
       "        [0, 1, 1, 1, 1],\n",
       "        [0, 1, 0, 0, 0],\n",
       "        [1, 1, 1, 1, 1]],\n",
       "\n",
       "       [[1, 1, 1, 1, 1],\n",
       "        [1, 1, 1, 1, 1],\n",
       "        [0, 0, 0, 1, 0],\n",
       "        [0, 1, 0, 0, 0],\n",
       "        [1, 1, 1, 1, 1]],\n",
       "\n",
       "       [[0, 0, 1, 0, 1],\n",
       "        [1, 1, 1, 0, 1],\n",
       "        [1, 0, 0, 0, 0],\n",
       "        [0, 0, 0, 0, 0],\n",
       "        [1, 1, 1, 1, 1]]])"
      ]
     },
     "execution_count": 11,
     "metadata": {},
     "output_type": "execute_result"
    }
   ],
   "source": [
    "np.where(correct_or_not == 1, 1, 0)"
   ]
  },
  {
   "cell_type": "code",
   "execution_count": 12,
   "id": "parental-arrest",
   "metadata": {},
   "outputs": [
    {
     "data": {
      "text/plain": [
       "(11, 5, 5)"
      ]
     },
     "execution_count": 12,
     "metadata": {},
     "output_type": "execute_result"
    }
   ],
   "source": [
    "correct_or_not.shape"
   ]
  },
  {
   "cell_type": "code",
   "execution_count": 13,
   "id": "capable-cleaners",
   "metadata": {},
   "outputs": [],
   "source": [
    "repeat = feedback_array.shape[-1]"
   ]
  },
  {
   "cell_type": "code",
   "execution_count": 14,
   "id": "pregnant-breathing",
   "metadata": {},
   "outputs": [],
   "source": [
    "correction_rate_array = np.where(correct_or_not == 1, 1, 0).sum(-1)/repeat"
   ]
  },
  {
   "cell_type": "code",
   "execution_count": 15,
   "id": "gross-marble",
   "metadata": {},
   "outputs": [
    {
     "data": {
      "text/plain": [
       "([<matplotlib.axis.YTick at 0x7f4857360890>,\n",
       "  <matplotlib.axis.YTick at 0x7f4857341990>,\n",
       "  <matplotlib.axis.YTick at 0x7f4859c36b90>,\n",
       "  <matplotlib.axis.YTick at 0x7f48572ae350>,\n",
       "  <matplotlib.axis.YTick at 0x7f48572ae4d0>],\n",
       " [Text(0, 0, 'left'),\n",
       "  Text(0, 1, 'right'),\n",
       "  Text(0, 2, 'forward'),\n",
       "  Text(0, 3, 'pick up'),\n",
       "  Text(0, 4, 'toggle')])"
      ]
     },
     "execution_count": 15,
     "metadata": {},
     "output_type": "execute_result"
    },
    {
     "data": {
      "image/png": "[encoded data removed]",
      "text/plain": [
       "<Figure size 792x360 with 2 Axes>"
      ]
     },
     "metadata": {
      "needs_background": "light"
     },
     "output_type": "display_data"
    }
   ],
   "source": [
    "plt.figure(figsize=(11, 5))\n",
    "ax = sns.heatmap(correction_rate_array.T, annot=True)\n",
    "plt.yticks(ticks=[0, 1, 2, 3, 4], labels=['left', 'right', 'forward', 'pick up', 'toggle'])"
   ]
  },
  {
   "cell_type": "code",
   "execution_count": 16,
   "id": "approximate-music",
   "metadata": {},
   "outputs": [],
   "source": [
    "#Overall correction rate \n",
    "state_num = correct_or_not.shape[0]\n",
    "action_num = correct_or_not.shape[1]\n",
    "correction_rate = np.where(correct_or_not == 1, 1, 0).sum()/(state_num*action_num*repeat)"
   ]
  },
  {
   "cell_type": "code",
   "execution_count": 17,
   "id": "painful-median",
   "metadata": {},
   "outputs": [
    {
     "data": {
      "text/plain": [
       "0.6327272727272727"
      ]
     },
     "execution_count": 17,
     "metadata": {},
     "output_type": "execute_result"
    }
   ],
   "source": [
    "correction_rate"
   ]
  },
  {
   "cell_type": "code",
   "execution_count": 18,
   "id": "english-undergraduate",
   "metadata": {},
   "outputs": [],
   "source": [
    "action_list=[1,3,2,2,1,5,2,2,1,2,2]\n",
    "calibrated_action_list = [1,3,2,2,1,4,2,2,1,2,2]"
   ]
  },
  {
   "cell_type": "code",
   "execution_count": 19,
   "id": "acute-navigation",
   "metadata": {},
   "outputs": [],
   "source": [
    "#highlight optimal action only"
   ]
  },
  {
   "cell_type": "code",
   "execution_count": 20,
   "id": "likely-conclusion",
   "metadata": {},
   "outputs": [
    {
     "name": "stdout",
     "output_type": "stream",
     "text": [
      "0 1\n",
      "[-1. -1. -1. -1. -1.]\n",
      "[-1. -1. -1. -1. -1.]\n",
      "1 3\n",
      "[1. 1. 1. 1. 1.]\n",
      "[1. 1. 1. 1. 1.]\n",
      "2 2\n",
      "[-1. -1. -1. -1. -1.]\n",
      "[-1. -1. -1. -1. -1.]\n",
      "3 2\n",
      "[-1.  1. -1. -1. -1.]\n",
      "[-1.  1. -1. -1. -1.]\n",
      "4 1\n",
      "[-1. -1.  1. -1.  1.]\n",
      "[-1. -1.  1. -1.  1.]\n",
      "5 4\n",
      "[-1. -1. -1. -1. -1.]\n",
      "[-1. -1. -1. -1. -1.]\n",
      "6 2\n",
      "[-1. -1. -1. -1.  1.]\n",
      "[-1. -1. -1. -1.  1.]\n",
      "7 2\n",
      "[-1.  1. -1. -1. -1.]\n",
      "[-1.  1. -1. -1. -1.]\n",
      "8 1\n",
      "[ 1. -1. -1.  1. -1.]\n",
      "[ 1. -1. -1.  1. -1.]\n",
      "9 2\n",
      "[-1. -1. -1.  1. -1.]\n",
      "[-1. -1. -1.  1. -1.]\n",
      "10 2\n",
      "[ 1. -1. -1. -1. -1.]\n",
      "[ 1. -1. -1. -1. -1.]\n"
     ]
    }
   ],
   "source": [
    "optimal_action_only = np.zeros(correct_or_not.shape)\n",
    "optimal_highlight = np.zeros(correct_or_not.shape)\n",
    "for i, action in enumerate(calibrated_action_list):\n",
    "    print(i, action)\n",
    "    optimal_action_only[i][action] = correct_or_not[i][action]\n",
    "    optimal_highlight[i][action] = np.ones(repeat)\n",
    "    print(correct_or_not[i][action])\n",
    "    print(optimal_action_only[i][action])"
   ]
  },
  {
   "cell_type": "code",
   "execution_count": 21,
   "id": "persistent-toner",
   "metadata": {},
   "outputs": [
    {
     "data": {
      "text/plain": [
       "array([[[ 0.,  0.,  0.,  0.,  0.],\n",
       "        [-1., -1., -1., -1., -1.],\n",
       "        [ 0.,  0.,  0.,  0.,  0.],\n",
       "        [ 0.,  0.,  0.,  0.,  0.],\n",
       "        [ 0.,  0.,  0.,  0.,  0.]],\n",
       "\n",
       "       [[ 0.,  0.,  0.,  0.,  0.],\n",
       "        [ 0.,  0.,  0.,  0.,  0.],\n",
       "        [ 0.,  0.,  0.,  0.,  0.],\n",
       "        [ 1.,  1.,  1.,  1.,  1.],\n",
       "        [ 0.,  0.,  0.,  0.,  0.]],\n",
       "\n",
       "       [[ 0.,  0.,  0.,  0.,  0.],\n",
       "        [ 0.,  0.,  0.,  0.,  0.],\n",
       "        [-1., -1., -1., -1., -1.],\n",
       "        [ 0.,  0.,  0.,  0.,  0.],\n",
       "        [ 0.,  0.,  0.,  0.,  0.]],\n",
       "\n",
       "       [[ 0.,  0.,  0.,  0.,  0.],\n",
       "        [ 0.,  0.,  0.,  0.,  0.],\n",
       "        [-1.,  1., -1., -1., -1.],\n",
       "        [ 0.,  0.,  0.,  0.,  0.],\n",
       "        [ 0.,  0.,  0.,  0.,  0.]],\n",
       "\n",
       "       [[ 0.,  0.,  0.,  0.,  0.],\n",
       "        [-1., -1.,  1., -1.,  1.],\n",
       "        [ 0.,  0.,  0.,  0.,  0.],\n",
       "        [ 0.,  0.,  0.,  0.,  0.],\n",
       "        [ 0.,  0.,  0.,  0.,  0.]],\n",
       "\n",
       "       [[ 0.,  0.,  0.,  0.,  0.],\n",
       "        [ 0.,  0.,  0.,  0.,  0.],\n",
       "        [ 0.,  0.,  0.,  0.,  0.],\n",
       "        [ 0.,  0.,  0.,  0.,  0.],\n",
       "        [-1., -1., -1., -1., -1.]],\n",
       "\n",
       "       [[ 0.,  0.,  0.,  0.,  0.],\n",
       "        [ 0.,  0.,  0.,  0.,  0.],\n",
       "        [-1., -1., -1., -1.,  1.],\n",
       "        [ 0.,  0.,  0.,  0.,  0.],\n",
       "        [ 0.,  0.,  0.,  0.,  0.]],\n",
       "\n",
       "       [[ 0.,  0.,  0.,  0.,  0.],\n",
       "        [ 0.,  0.,  0.,  0.,  0.],\n",
       "        [-1.,  1., -1., -1., -1.],\n",
       "        [ 0.,  0.,  0.,  0.,  0.],\n",
       "        [ 0.,  0.,  0.,  0.,  0.]],\n",
       "\n",
       "       [[ 0.,  0.,  0.,  0.,  0.],\n",
       "        [ 1., -1., -1.,  1., -1.],\n",
       "        [ 0.,  0.,  0.,  0.,  0.],\n",
       "        [ 0.,  0.,  0.,  0.,  0.],\n",
       "        [ 0.,  0.,  0.,  0.,  0.]],\n",
       "\n",
       "       [[ 0.,  0.,  0.,  0.,  0.],\n",
       "        [ 0.,  0.,  0.,  0.,  0.],\n",
       "        [-1., -1., -1.,  1., -1.],\n",
       "        [ 0.,  0.,  0.,  0.,  0.],\n",
       "        [ 0.,  0.,  0.,  0.,  0.]],\n",
       "\n",
       "       [[ 0.,  0.,  0.,  0.,  0.],\n",
       "        [ 0.,  0.,  0.,  0.,  0.],\n",
       "        [ 1., -1., -1., -1., -1.],\n",
       "        [ 0.,  0.,  0.,  0.,  0.],\n",
       "        [ 0.,  0.,  0.,  0.,  0.]]])"
      ]
     },
     "execution_count": 21,
     "metadata": {},
     "output_type": "execute_result"
    }
   ],
   "source": [
    "optimal_action_only"
   ]
  },
  {
   "cell_type": "code",
   "execution_count": 22,
   "id": "divided-projection",
   "metadata": {},
   "outputs": [
    {
     "data": {
      "text/plain": [
       "([<matplotlib.axis.YTick at 0x7f48550f9910>,\n",
       "  <matplotlib.axis.YTick at 0x7f48550f1ad0>,\n",
       "  <matplotlib.axis.YTick at 0x7f4855079290>,\n",
       "  <matplotlib.axis.YTick at 0x7f4855096a90>,\n",
       "  <matplotlib.axis.YTick at 0x7f485508b790>],\n",
       " [Text(0, 0, 'left'),\n",
       "  Text(0, 1, 'right'),\n",
       "  Text(0, 2, 'forward'),\n",
       "  Text(0, 3, 'pick up'),\n",
       "  Text(0, 4, 'toggle')])"
      ]
     },
     "execution_count": 22,
     "metadata": {},
     "output_type": "execute_result"
    },
    {
     "data": {
      "image/png": "[encoded data removed]",
      "text/plain": [
       "<Figure size 792x360 with 2 Axes>"
      ]
     },
     "metadata": {
      "needs_background": "light"
     },
     "output_type": "display_data"
    }
   ],
   "source": [
    "optimal_only_correction_rate_array = np.where(optimal_action_only == 1, 1, 0).sum(-1)/repeat\n",
    "plt.figure(figsize=(11, 5))\n",
    "ax = sns.heatmap(optimal_only_correction_rate_array.T, annot=True)\n",
    "plt.yticks(ticks=[0, 1, 2, 3, 4], labels=['left', 'right', 'forward', 'pick up', 'toggle'])"
   ]
  },
  {
   "cell_type": "code",
   "execution_count": 23,
   "id": "desperate-guess",
   "metadata": {},
   "outputs": [
    {
     "data": {
      "text/plain": [
       "([<matplotlib.axis.YTick at 0x7f4854f79cd0>,\n",
       "  <matplotlib.axis.YTick at 0x7f4854f71d90>,\n",
       "  <matplotlib.axis.YTick at 0x7f4854f6da10>,\n",
       "  <matplotlib.axis.YTick at 0x7f4854f18610>,\n",
       "  <matplotlib.axis.YTick at 0x7f4854f11ad0>],\n",
       " [Text(0, 0, 'left'),\n",
       "  Text(0, 1, 'right'),\n",
       "  Text(0, 2, 'forward'),\n",
       "  Text(0, 3, 'pick up'),\n",
       "  Text(0, 4, 'toggle')])"
      ]
     },
     "execution_count": 23,
     "metadata": {},
     "output_type": "execute_result"
    },
    {
     "data": {
      "image/png": "[encoded data removed]",
      "text/plain": [
       "<Figure size 792x360 with 2 Axes>"
      ]
     },
     "metadata": {
      "needs_background": "light"
     },
     "output_type": "display_data"
    }
   ],
   "source": [
    "optimal_highlight_correction_rate_array = np.where(optimal_highlight == 1, 1, 0).sum(-1)/repeat\n",
    "plt.figure(figsize=(11, 5))\n",
    "ax = sns.heatmap(optimal_highlight_correction_rate_array.T, annot=True)\n",
    "plt.yticks(ticks=[0, 1, 2, 3, 4], labels=['left', 'right', 'forward', 'pick up', 'toggle'])"
   ]
  },
  {
   "cell_type": "code",
   "execution_count": 24,
   "id": "clean-snake",
   "metadata": {},
   "outputs": [
    {
     "data": {
      "text/plain": [
       "array([-1., -1., -1., -1., -1.])"
      ]
     },
     "execution_count": 24,
     "metadata": {},
     "output_type": "execute_result"
    }
   ],
   "source": [
    "correct_or_not[0][1]"
   ]
  },
  {
   "cell_type": "code",
   "execution_count": 25,
   "id": "electric-archive",
   "metadata": {},
   "outputs": [
    {
     "data": {
      "text/plain": [
       "array(['{\\n  \"Reason\": \"The agent is currently facing rightwards (<) and turning left will change the direction to leftwards (<), which is the current direction. This action is neutral and does not lead closer to the goal or help get the key.\",\\n  \"Feedback\": \"NEUTRAL\"\\n}',\n",
       "       '{\\n  \"Reason\": \"The agent is facing leftwards (\\\\\") and turning right will change the direction to rightwards (\\\\\"). This action does not help to move closer to the goal or the key.\",\\n  \"Feedback\": \"BAD\"\\n}',\n",
       "       '{\\n  \"Reason\": \"The agent is facing left but it is not possible to move forward because there is a wall in front of it.\",\\n  \"Feedback\": \"BAD\"\\n}',\n",
       "       '{\\n  \"Reason\": \"The agent is in position to pick up the key, and picking up the key is a crucial step towards unlocking the door and reaching the goal.\",\\n  \"Feedback\": \"GOOD\"\\n}',\n",
       "       '{\\n  \"Reason\": \"You don\\'t have the key and the door is not in the same position as the agent, so unlocking the door is not possible.\",\\n  \"Feedback\": \"BAD\"\\n}'],\n",
       "      dtype='<U450')"
      ]
     },
     "execution_count": 25,
     "metadata": {},
     "output_type": "execute_result"
    }
   ],
   "source": [
    "response_array[0][1]"
   ]
  },
  {
   "cell_type": "code",
   "execution_count": 27,
   "id": "pressing-racing",
   "metadata": {},
   "outputs": [
    {
     "data": {
      "text/plain": [
       "array(['{\\n  \"Reason\": \"Turning left will not lead to a more favorable position, and it won\\'t help in picking up the key or unlocking the door. The agent is already in the most optimal position to move forward towards the goal, and turning left will make the agent facing the wall.\",\\n  \"Feedback\": \"BAD\"\\n}',\n",
       "       '{\\n  \"Reason\": \"The agent is currently facing leftwards (<), turning right will change the direction to right (>) but it does not lead the agent closer to the goal and there is no wall or key that the agent needs to pick up. Therefore, this action is not good.\",\\n  \"Feedback\": \"BAD\"\\n}',\n",
       "       'Given this state: #####\\n#.D.#\\n#K#.#\\n#<#G#\\n#####\\n\\nGiven the action: move forward\\nReason: The agent is facing leftwards (<) and moving forward but there is a wall in front of them, so they cannot move forward.\\nFeedback: BAD',\n",
       "       '{\\n  \"Reason\": \"The agent is facing leftwards and is currently in the same tile as the key. So, the action of picking up the key would be a good action.\",\\n  \"Feedback\": \"GOOD\"\\n}',\n",
       "       '{\\n  \"Reason\": \"The agent does not have the key, and unlock the door action is only possible when you have the key.\",\\n  \"Feedback\": \"BAD\"\\n}'],\n",
       "      dtype='<U450')"
      ]
     },
     "execution_count": 27,
     "metadata": {},
     "output_type": "execute_result"
    }
   ],
   "source": [
    "response_array[5][4]"
   ]
  },
  {
   "cell_type": "code",
   "execution_count": null,
   "id": "latest-oakland",
   "metadata": {},
   "outputs": [],
   "source": []
  },
  {
   "cell_type": "code",
   "execution_count": null,
   "id": "understood-nightmare",
   "metadata": {},
   "outputs": [],
   "source": []
  },
  {
   "cell_type": "code",
   "execution_count": null,
   "id": "italian-algorithm",
   "metadata": {},
   "outputs": [],
   "source": []
  },
  {
   "cell_type": "code",
   "execution_count": null,
   "id": "listed-pepper",
   "metadata": {},
   "outputs": [],
   "source": []
  },
  {
   "cell_type": "code",
   "execution_count": null,
   "id": "moderate-brake",
   "metadata": {},
   "outputs": [],
   "source": []
  },
  {
   "cell_type": "code",
   "execution_count": null,
   "id": "representative-switzerland",
   "metadata": {},
   "outputs": [],
   "source": []
  }
 ],
 "metadata": {
  "kernelspec": {
   "display_name": "Python 3",
   "language": "python",
   "name": "python3"
  },
  "language_info": {
   "codemirror_mode": {
    "name": "ipython",
    "version": 3
   },
   "file_extension": ".py",
   "mimetype": "text/x-python",
   "name": "python",
   "nbconvert_exporter": "python",
   "pygments_lexer": "ipython3",
   "version": "3.7.10"
  }
 },
 "nbformat": 4,
 "nbformat_minor": 5
}
