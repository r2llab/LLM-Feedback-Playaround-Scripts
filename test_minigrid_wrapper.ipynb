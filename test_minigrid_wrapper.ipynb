{
 "cells": [
  {
   "cell_type": "code",
   "execution_count": 68,
   "id": "military-cincinnati",
   "metadata": {},
   "outputs": [],
   "source": [
    "import gymnasium as gym\n",
    "import numpy as np"
   ]
  },
  {
   "cell_type": "code",
   "execution_count": 69,
   "id": "identical-alaska",
   "metadata": {},
   "outputs": [],
   "source": [
    "import minigrid"
   ]
  },
  {
   "cell_type": "code",
   "execution_count": 70,
   "id": "oriental-disease",
   "metadata": {},
   "outputs": [
    {
     "name": "stdout",
     "output_type": "stream",
     "text": [
      "Defaulting to user installation because normal site-packages is not writeable\n",
      "Requirement already satisfied: minigrid in /fs01/home/yuxuanli/.local/lib/python3.7/site-packages (2.3.1)\n",
      "Requirement already satisfied: numpy>=1.18.0 in /fs01/home/yuxuanli/.local/lib/python3.7/site-packages (from minigrid) (1.21.6)\n",
      "Requirement already satisfied: gymnasium>=0.28.1 in /fs01/home/yuxuanli/.local/lib/python3.7/site-packages (from minigrid) (0.28.1)\n",
      "Requirement already satisfied: pygame>=2.4.0 in /fs01/home/yuxuanli/.local/lib/python3.7/site-packages (from minigrid) (2.6.1)\n",
      "Requirement already satisfied: jax-jumpy>=1.0.0 in /fs01/home/yuxuanli/.local/lib/python3.7/site-packages (from gymnasium>=0.28.1->minigrid) (1.0.0)\n",
      "Requirement already satisfied: cloudpickle>=1.2.0 in /fs01/home/yuxuanli/.local/lib/python3.7/site-packages (from gymnasium>=0.28.1->minigrid) (2.2.1)\n",
      "Requirement already satisfied: importlib-metadata>=4.8.0 in /fs01/home/yuxuanli/.local/lib/python3.7/site-packages (from gymnasium>=0.28.1->minigrid) (6.7.0)\n",
      "Requirement already satisfied: typing-extensions>=4.3.0 in /fs01/home/yuxuanli/.local/lib/python3.7/site-packages (from gymnasium>=0.28.1->minigrid) (4.7.1)\n",
      "Requirement already satisfied: farama-notifications>=0.0.1 in /fs01/home/yuxuanli/.local/lib/python3.7/site-packages (from gymnasium>=0.28.1->minigrid) (0.0.4)\n",
      "Requirement already satisfied: zipp>=0.5 in /fs01/pkgs/jupyterhub/lib/python3.7/site-packages (from importlib-metadata>=4.8.0->gymnasium>=0.28.1->minigrid) (3.4.1)\n"
     ]
    }
   ],
   "source": [
    "!pip3 install minigrid"
   ]
  },
  {
   "cell_type": "code",
   "execution_count": 71,
   "id": "delayed-learning",
   "metadata": {},
   "outputs": [],
   "source": [
    "import gymnasium as gym\n",
    "import minigrid\n",
    "from minigrid.minigrid_env import MiniGridEnv\n",
    "from minigrid.wrappers import FullyObsWrapper"
   ]
  },
  {
   "cell_type": "code",
   "execution_count": 72,
   "id": "great-style",
   "metadata": {},
   "outputs": [],
   "source": [
    "full_observable = FullyObsWrapper(env)"
   ]
  },
  {
   "cell_type": "code",
   "execution_count": 73,
   "id": "effective-event",
   "metadata": {},
   "outputs": [],
   "source": [
    "env = gym.make('MiniGrid-Empty-5x5-v0', render_mode=\"rgb_array\")\n",
    "s = env.reset()"
   ]
  },
  {
   "cell_type": "code",
   "execution_count": 96,
   "id": "clinical-dream",
   "metadata": {},
   "outputs": [],
   "source": [
    "s = env.reset()"
   ]
  },
  {
   "cell_type": "code",
   "execution_count": 106,
   "id": "successful-corporation",
   "metadata": {},
   "outputs": [],
   "source": [
    "env = gym.make('MiniGrid-DoorKey-5x5-v0', render_mode=\"rgb_array\")\n"
   ]
  },
  {
   "cell_type": "code",
   "execution_count": 107,
   "id": "lasting-station",
   "metadata": {},
   "outputs": [
    {
     "ename": "AttributeError",
     "evalue": "'DoorKeyEnv' object has no attribute 'pprint_grid'",
     "output_type": "error",
     "traceback": [
      "\u001b[0;31m---------------------------------------------------------------------------\u001b[0m",
      "\u001b[0;31mAttributeError\u001b[0m                            Traceback (most recent call last)",
      "\u001b[0;32m<ipython-input-107-0f46d6f9099c>\u001b[0m in \u001b[0;36m<module>\u001b[0;34m\u001b[0m\n\u001b[0;32m----> 1\u001b[0;31m \u001b[0menv\u001b[0m\u001b[0;34m.\u001b[0m\u001b[0mpprint_grid\u001b[0m\u001b[0;34m(\u001b[0m\u001b[0;34m)\u001b[0m\u001b[0;34m\u001b[0m\u001b[0;34m\u001b[0m\u001b[0m\n\u001b[0m",
      "\u001b[0;32m~/.local/lib/python3.7/site-packages/gymnasium/core.py\u001b[0m in \u001b[0;36m__getattr__\u001b[0;34m(self, name)\u001b[0m\n\u001b[1;32m    280\u001b[0m         \u001b[0;32melif\u001b[0m \u001b[0mname\u001b[0m\u001b[0;34m.\u001b[0m\u001b[0mstartswith\u001b[0m\u001b[0;34m(\u001b[0m\u001b[0;34m\"_\"\u001b[0m\u001b[0;34m)\u001b[0m\u001b[0;34m:\u001b[0m\u001b[0;34m\u001b[0m\u001b[0;34m\u001b[0m\u001b[0m\n\u001b[1;32m    281\u001b[0m             \u001b[0;32mraise\u001b[0m \u001b[0mAttributeError\u001b[0m\u001b[0;34m(\u001b[0m\u001b[0;34mf\"accessing private attribute '{name}' is prohibited\"\u001b[0m\u001b[0;34m)\u001b[0m\u001b[0;34m\u001b[0m\u001b[0;34m\u001b[0m\u001b[0m\n\u001b[0;32m--> 282\u001b[0;31m         \u001b[0;32mreturn\u001b[0m \u001b[0mgetattr\u001b[0m\u001b[0;34m(\u001b[0m\u001b[0mself\u001b[0m\u001b[0;34m.\u001b[0m\u001b[0menv\u001b[0m\u001b[0;34m,\u001b[0m \u001b[0mname\u001b[0m\u001b[0;34m)\u001b[0m\u001b[0;34m\u001b[0m\u001b[0;34m\u001b[0m\u001b[0m\n\u001b[0m\u001b[1;32m    283\u001b[0m \u001b[0;34m\u001b[0m\u001b[0m\n\u001b[1;32m    284\u001b[0m     \u001b[0;34m@\u001b[0m\u001b[0mproperty\u001b[0m\u001b[0;34m\u001b[0m\u001b[0;34m\u001b[0m\u001b[0m\n",
      "\u001b[0;32m~/.local/lib/python3.7/site-packages/gymnasium/core.py\u001b[0m in \u001b[0;36m__getattr__\u001b[0;34m(self, name)\u001b[0m\n\u001b[1;32m    280\u001b[0m         \u001b[0;32melif\u001b[0m \u001b[0mname\u001b[0m\u001b[0;34m.\u001b[0m\u001b[0mstartswith\u001b[0m\u001b[0;34m(\u001b[0m\u001b[0;34m\"_\"\u001b[0m\u001b[0;34m)\u001b[0m\u001b[0;34m:\u001b[0m\u001b[0;34m\u001b[0m\u001b[0;34m\u001b[0m\u001b[0m\n\u001b[1;32m    281\u001b[0m             \u001b[0;32mraise\u001b[0m \u001b[0mAttributeError\u001b[0m\u001b[0;34m(\u001b[0m\u001b[0;34mf\"accessing private attribute '{name}' is prohibited\"\u001b[0m\u001b[0;34m)\u001b[0m\u001b[0;34m\u001b[0m\u001b[0;34m\u001b[0m\u001b[0m\n\u001b[0;32m--> 282\u001b[0;31m         \u001b[0;32mreturn\u001b[0m \u001b[0mgetattr\u001b[0m\u001b[0;34m(\u001b[0m\u001b[0mself\u001b[0m\u001b[0;34m.\u001b[0m\u001b[0menv\u001b[0m\u001b[0;34m,\u001b[0m \u001b[0mname\u001b[0m\u001b[0;34m)\u001b[0m\u001b[0;34m\u001b[0m\u001b[0;34m\u001b[0m\u001b[0m\n\u001b[0m\u001b[1;32m    283\u001b[0m \u001b[0;34m\u001b[0m\u001b[0m\n\u001b[1;32m    284\u001b[0m     \u001b[0;34m@\u001b[0m\u001b[0mproperty\u001b[0m\u001b[0;34m\u001b[0m\u001b[0;34m\u001b[0m\u001b[0m\n",
      "\u001b[0;31mAttributeError\u001b[0m: 'DoorKeyEnv' object has no attribute 'pprint_grid'"
     ]
    }
   ],
   "source": [
    "env.pprint_grid()"
   ]
  },
  {
   "cell_type": "code",
   "execution_count": 84,
   "id": "vocational-burst",
   "metadata": {},
   "outputs": [
    {
     "name": "stdout",
     "output_type": "stream",
     "text": [
      "Defaulting to user installation because normal site-packages is not writeable\n",
      "Collecting matplotlib\n",
      "  Downloading matplotlib-3.5.3-cp37-cp37m-manylinux_2_5_x86_64.manylinux1_x86_64.whl (11.2 MB)\n",
      "\u001b[K     |################################| 11.2 MB 11.6 MB/s eta 0:00:01\n",
      "\u001b[?25hCollecting pillow>=6.2.0\n",
      "  Downloading Pillow-9.5.0-cp37-cp37m-manylinux_2_17_x86_64.manylinux2014_x86_64.whl (3.3 MB)\n",
      "\u001b[K     |################################| 3.3 MB 31.8 MB/s eta 0:00:01\n",
      "\u001b[?25hRequirement already satisfied: numpy>=1.17 in /fs01/home/yuxuanli/.local/lib/python3.7/site-packages (from matplotlib) (1.21.6)\n",
      "Requirement already satisfied: packaging>=20.0 in /fs01/pkgs/jupyterhub/lib/python3.7/site-packages (from matplotlib) (20.9)\n",
      "Collecting kiwisolver>=1.0.1\n",
      "  Downloading kiwisolver-1.4.5-cp37-cp37m-manylinux_2_5_x86_64.manylinux1_x86_64.whl (1.1 MB)\n",
      "\u001b[K     |################################| 1.1 MB 30.8 MB/s eta 0:00:01\n",
      "\u001b[?25hCollecting cycler>=0.10\n",
      "  Downloading cycler-0.11.0-py3-none-any.whl (6.4 kB)\n",
      "Collecting fonttools>=4.22.0\n",
      "  Downloading fonttools-4.38.0-py3-none-any.whl (965 kB)\n",
      "\u001b[K     |################################| 965 kB 33.0 MB/s eta 0:00:01\n",
      "\u001b[?25hRequirement already satisfied: python-dateutil>=2.7 in /fs01/pkgs/jupyterhub/lib/python3.7/site-packages (from matplotlib) (2.8.1)\n",
      "Requirement already satisfied: pyparsing>=2.2.1 in /fs01/pkgs/jupyterhub/lib/python3.7/site-packages (from matplotlib) (2.4.7)\n",
      "Requirement already satisfied: typing-extensions in /fs01/home/yuxuanli/.local/lib/python3.7/site-packages (from kiwisolver>=1.0.1->matplotlib) (4.7.1)\n",
      "Requirement already satisfied: six>=1.5 in /fs01/pkgs/jupyterhub/lib/python3.7/site-packages (from python-dateutil>=2.7->matplotlib) (1.15.0)\n",
      "Installing collected packages: pillow, kiwisolver, fonttools, cycler, matplotlib\n",
      "\u001b[33m  WARNING: The scripts fonttools, pyftmerge, pyftsubset and ttx are installed in '/h/yuxuanli/.local/bin' which is not on PATH.\n",
      "  Consider adding this directory to PATH or, if you prefer to suppress this warning, use --no-warn-script-location.\u001b[0m\n",
      "Successfully installed cycler-0.11.0 fonttools-4.38.0 kiwisolver-1.4.5 matplotlib-3.5.3 pillow-9.5.0\n"
     ]
    },
    {
     "data": {
      "image/png": "[encoded data removed]",
      "text/plain": [
       "<Figure size 432x288 with 1 Axes>"
      ]
     },
     "metadata": {
      "needs_background": "light"
     },
     "output_type": "display_data"
    }
   ],
   "source": [
    "!pip install matplotlib\n"
   ]
  },
  {
   "cell_type": "code",
   "execution_count": null,
   "id": "experienced-association",
   "metadata": {},
   "outputs": [],
   "source": []
  },
  {
   "cell_type": "code",
   "execution_count": 52,
   "id": "oriented-confusion",
   "metadata": {},
   "outputs": [
    {
     "data": {
      "text/plain": [
       "array([[[2, 5, 0],\n",
       "        [2, 5, 0],\n",
       "        [2, 5, 0],\n",
       "        [2, 5, 0],\n",
       "        [2, 5, 0],\n",
       "        [2, 5, 0],\n",
       "        [2, 5, 0]],\n",
       "\n",
       "       [[2, 5, 0],\n",
       "        [2, 5, 0],\n",
       "        [2, 5, 0],\n",
       "        [2, 5, 0],\n",
       "        [2, 5, 0],\n",
       "        [2, 5, 0],\n",
       "        [2, 5, 0]],\n",
       "\n",
       "       [[2, 5, 0],\n",
       "        [2, 5, 0],\n",
       "        [2, 5, 0],\n",
       "        [2, 5, 0],\n",
       "        [2, 5, 0],\n",
       "        [2, 5, 0],\n",
       "        [2, 5, 0]],\n",
       "\n",
       "       [[2, 5, 0],\n",
       "        [2, 5, 0],\n",
       "        [2, 5, 0],\n",
       "        [2, 5, 0],\n",
       "        [1, 0, 0],\n",
       "        [1, 0, 0],\n",
       "        [1, 0, 0]],\n",
       "\n",
       "       [[2, 5, 0],\n",
       "        [2, 5, 0],\n",
       "        [2, 5, 0],\n",
       "        [2, 5, 0],\n",
       "        [1, 0, 0],\n",
       "        [1, 0, 0],\n",
       "        [1, 0, 0]],\n",
       "\n",
       "       [[2, 5, 0],\n",
       "        [2, 5, 0],\n",
       "        [2, 5, 0],\n",
       "        [2, 5, 0],\n",
       "        [8, 1, 0],\n",
       "        [1, 0, 0],\n",
       "        [1, 0, 0]],\n",
       "\n",
       "       [[2, 5, 0],\n",
       "        [2, 5, 0],\n",
       "        [2, 5, 0],\n",
       "        [2, 5, 0],\n",
       "        [2, 5, 0],\n",
       "        [2, 5, 0],\n",
       "        [2, 5, 0]]], dtype=uint8)"
      ]
     },
     "execution_count": 52,
     "metadata": {},
     "output_type": "execute_result"
    }
   ],
   "source": [
    "s[0]['image']"
   ]
  },
  {
   "cell_type": "code",
   "execution_count": 164,
   "id": "million-museum",
   "metadata": {},
   "outputs": [],
   "source": [
    "from minigrid.wrappers import ImgObsWrapper\n",
    "\n",
    "\n",
    "def observation_to_grid_representation(env):\n",
    "    \"\"\"\n",
    "    Converts a MiniGrid environment observation into a grid representation.\n",
    "    \n",
    "    Args:\n",
    "        env: The MiniGrid environment object.    \n",
    "    Returns:\n",
    "        A 2D NumPy array representing the grid, where different objects are shown as characters.\n",
    "    \"\"\"\n",
    "    grid = np.full((env.width, env.height), ' ')  # Create an empty grid filled with spaces\n",
    "\n",
    "    # Iterate through each cell in the grid and map it to a corresponding symbol\n",
    "    for x in range(env.width):\n",
    "        for y in range(env.height):\n",
    "            obj = env.grid.get(x, y)\n",
    "            if obj is None:\n",
    "                grid[x, y] = '.'\n",
    "            else:\n",
    "                grid[x, y] = obj_to_char(obj)\n",
    "    \n",
    "    # Add the agent's position to the grid representation\n",
    "    agent_pos = env.agent_pos\n",
    "    agent_dir = env.agent_dir  # Agent's direction: 0=right, 1=down, 2=left, 3=up\n",
    "    grid[agent_pos[0], agent_pos[1]] = agent_dir_to_char(agent_dir)\n",
    "\n",
    "    return grid.T\n",
    "\n",
    "def obj_to_char(obj):\n",
    "    \"\"\"\n",
    "    Maps MiniGrid objects to characters for the grid representation.\n",
    "    \n",
    "    Args:\n",
    "        obj: The object from the MiniGrid environment.\n",
    "    \n",
    "    Returns:\n",
    "        A single character representing the object in the grid.\n",
    "    \"\"\"\n",
    "    if obj.type == 'wall':\n",
    "        return '#'\n",
    "    elif obj.type == 'goal':\n",
    "        return 'G'\n",
    "    elif obj.type == 'lava':\n",
    "        return 'L'\n",
    "    elif obj.type == 'door':\n",
    "        return 'D'\n",
    "    elif obj.type == 'key':\n",
    "        return 'K'\n",
    "    elif obj.type == 'ball':\n",
    "        return 'B'\n",
    "    elif obj.type == 'box':\n",
    "        return 'X'\n",
    "    elif obj.type == 'water':\n",
    "        return 'W'\n",
    "    else:\n",
    "        return '?'  # Unknown objects\n",
    "\n",
    "def agent_dir_to_char(agent_dir):\n",
    "    \"\"\"\n",
    "    Maps the agent's direction to a character for the grid representation.\n",
    "    \n",
    "    Args:\n",
    "        agent_dir: The direction the agent is facing (0=right, 1=down, 2=left, 3=up).\n",
    "    \n",
    "    Returns:\n",
    "        A single character representing the agent's facing direction.\n",
    "    \"\"\"\n",
    "#     AGENT_DIR_TO_STR = {0: \">\", 1: \"V\", 2: \"<\", 3: \"^\"}\n",
    "    AGENT_DIR_TO_STR = {0: \">\", 1: \"V\", 2: \"<\", 3: \"^\"}\n",
    "    if agent_dir in AGENT_DIR_TO_STR:\n",
    "        return AGENT_DIR_TO_STR[agent_dir]\n",
    "    else:\n",
    "        return 'A'  # Default character for the agent if direction is unknown\n"
   ]
  },
  {
   "cell_type": "code",
   "execution_count": 165,
   "id": "above-crest",
   "metadata": {},
   "outputs": [
    {
     "data": {
      "text/plain": [
       "array([['#', '#', '#', '#', '#'],\n",
       "       ['#', '>', '.', '.', '#'],\n",
       "       ['#', '.', '.', '.', '#'],\n",
       "       ['#', '.', '.', 'G', '#'],\n",
       "       ['#', '#', '#', '#', '#']], dtype='<U1')"
      ]
     },
     "execution_count": 165,
     "metadata": {},
     "output_type": "execute_result"
    }
   ],
   "source": [
    "env = gym.make('MiniGrid-Empty-5x5-v0', render_mode=\"rgb_array\")\n",
    "s = env.reset()\n",
    "observation_to_grid_representation(env)"
   ]
  },
  {
   "cell_type": "code",
   "execution_count": 166,
   "id": "fewer-vocabulary",
   "metadata": {},
   "outputs": [
    {
     "name": "stdout",
     "output_type": "stream",
     "text": [
      "0 (1, 1)\n"
     ]
    }
   ],
   "source": [
    "print(env.agent_dir, env.agent_pos)"
   ]
  },
  {
   "cell_type": "code",
   "execution_count": 167,
   "id": "peaceful-rebecca",
   "metadata": {},
   "outputs": [
    {
     "data": {
      "text/plain": [
       "array([['#', '#', '#', '#', '#'],\n",
       "       ['#', '>', '.', '.', '#'],\n",
       "       ['#', '.', '.', '.', '#'],\n",
       "       ['#', '.', '.', 'G', '#'],\n",
       "       ['#', '#', '#', '#', '#']], dtype='<U1')"
      ]
     },
     "execution_count": 167,
     "metadata": {},
     "output_type": "execute_result"
    }
   ],
   "source": [
    "observation_to_grid_representation(env)"
   ]
  },
  {
   "cell_type": "code",
   "execution_count": 168,
   "id": "unknown-regard",
   "metadata": {},
   "outputs": [],
   "source": [
    "s = env.step(2)\n"
   ]
  },
  {
   "cell_type": "code",
   "execution_count": 169,
   "id": "accepted-plant",
   "metadata": {},
   "outputs": [
    {
     "data": {
      "text/plain": [
       "array([['#', '#', '#', '#', '#'],\n",
       "       ['#', '.', '>', '.', '#'],\n",
       "       ['#', '.', '.', '.', '#'],\n",
       "       ['#', '.', '.', 'G', '#'],\n",
       "       ['#', '#', '#', '#', '#']], dtype='<U1')"
      ]
     },
     "execution_count": 169,
     "metadata": {},
     "output_type": "execute_result"
    }
   ],
   "source": [
    "observation_to_grid_representation(env)"
   ]
  },
  {
   "cell_type": "code",
   "execution_count": 170,
   "id": "improved-secondary",
   "metadata": {},
   "outputs": [
    {
     "name": "stdout",
     "output_type": "stream",
     "text": [
      "0 (2, 1)\n"
     ]
    }
   ],
   "source": [
    "print(env.agent_dir, env.agent_pos)"
   ]
  },
  {
   "cell_type": "code",
   "execution_count": 171,
   "id": "vocal-waters",
   "metadata": {},
   "outputs": [
    {
     "name": "stdout",
     "output_type": "stream",
     "text": [
      "0\n"
     ]
    },
    {
     "data": {
      "text/plain": [
       "array([['#', '#', '#', '#', '#'],\n",
       "       ['#', '.', '^', '.', '#'],\n",
       "       ['#', '.', '.', '.', '#'],\n",
       "       ['#', '.', '.', 'G', '#'],\n",
       "       ['#', '#', '#', '#', '#']], dtype='<U1')"
      ]
     },
     "execution_count": 171,
     "metadata": {},
     "output_type": "execute_result"
    }
   ],
   "source": [
    "env.step(0)\n",
    "print(s[0][\"direction\"])\n",
    "observation_to_grid_representation(env)"
   ]
  },
  {
   "cell_type": "code",
   "execution_count": 172,
   "id": "ruled-store",
   "metadata": {},
   "outputs": [
    {
     "data": {
      "text/plain": [
       "array([['#', '#', '#', '#', '#'],\n",
       "       ['#', '.', '<', '.', '#'],\n",
       "       ['#', '.', '.', '.', '#'],\n",
       "       ['#', '.', '.', 'G', '#'],\n",
       "       ['#', '#', '#', '#', '#']], dtype='<U1')"
      ]
     },
     "execution_count": 172,
     "metadata": {},
     "output_type": "execute_result"
    }
   ],
   "source": [
    "env.step(0)\n",
    "observation_to_grid_representation(env)"
   ]
  },
  {
   "cell_type": "code",
   "execution_count": 173,
   "id": "encouraging-blast",
   "metadata": {},
   "outputs": [
    {
     "data": {
      "text/plain": [
       "array([['#', '#', '#', '#', '#'],\n",
       "       ['#', '<', '.', '.', '#'],\n",
       "       ['#', '.', '.', '.', '#'],\n",
       "       ['#', '.', '.', 'G', '#'],\n",
       "       ['#', '#', '#', '#', '#']], dtype='<U1')"
      ]
     },
     "execution_count": 173,
     "metadata": {},
     "output_type": "execute_result"
    }
   ],
   "source": [
    "env.step(2)\n",
    "observation_to_grid_representation(env)"
   ]
  },
  {
   "cell_type": "code",
   "execution_count": 174,
   "id": "outstanding-resolution",
   "metadata": {},
   "outputs": [
    {
     "data": {
      "text/plain": [
       "array([['#', '#', '#', '#', '#'],\n",
       "       ['#', '^', '.', '.', '#'],\n",
       "       ['#', '.', '.', '.', '#'],\n",
       "       ['#', '.', '.', 'G', '#'],\n",
       "       ['#', '#', '#', '#', '#']], dtype='<U1')"
      ]
     },
     "execution_count": 174,
     "metadata": {},
     "output_type": "execute_result"
    }
   ],
   "source": [
    "env.step(1)\n",
    "observation_to_grid_representation(env)"
   ]
  },
  {
   "cell_type": "code",
   "execution_count": 175,
   "id": "developmental-america",
   "metadata": {},
   "outputs": [
    {
     "name": "stdout",
     "output_type": "stream",
     "text": [
      "3\n"
     ]
    },
    {
     "data": {
      "text/plain": [
       "array([['#', '#', '#', '#', '#'],\n",
       "       ['#', '^', '.', '.', '#'],\n",
       "       ['#', '.', '.', '.', '#'],\n",
       "       ['#', '.', '.', 'G', '#'],\n",
       "       ['#', '#', '#', '#', '#']], dtype='<U1')"
      ]
     },
     "execution_count": 175,
     "metadata": {},
     "output_type": "execute_result"
    }
   ],
   "source": [
    "s = env.step(2)\n",
    "print(s[0]['direction'])\n",
    "observation_to_grid_representation(env)"
   ]
  },
  {
   "cell_type": "code",
   "execution_count": 176,
   "id": "absent-lucas",
   "metadata": {},
   "outputs": [
    {
     "name": "stdout",
     "output_type": "stream",
     "text": [
      "0\n"
     ]
    },
    {
     "data": {
      "text/plain": [
       "array([['#', '#', '#', '#', '#'],\n",
       "       ['#', '>', '.', '.', '#'],\n",
       "       ['#', '.', '.', '.', '#'],\n",
       "       ['#', '.', '.', 'G', '#'],\n",
       "       ['#', '#', '#', '#', '#']], dtype='<U1')"
      ]
     },
     "execution_count": 176,
     "metadata": {},
     "output_type": "execute_result"
    }
   ],
   "source": [
    "s = env.step(1)\n",
    "print(s[0]['direction'])\n",
    "observation_to_grid_representation(env)"
   ]
  },
  {
   "cell_type": "code",
   "execution_count": 177,
   "id": "dangerous-carroll",
   "metadata": {},
   "outputs": [
    {
     "name": "stdout",
     "output_type": "stream",
     "text": [
      "0\n"
     ]
    },
    {
     "data": {
      "text/plain": [
       "array([['#', '#', '#', '#', '#'],\n",
       "       ['#', '.', '>', '.', '#'],\n",
       "       ['#', '.', '.', '.', '#'],\n",
       "       ['#', '.', '.', 'G', '#'],\n",
       "       ['#', '#', '#', '#', '#']], dtype='<U1')"
      ]
     },
     "execution_count": 177,
     "metadata": {},
     "output_type": "execute_result"
    }
   ],
   "source": [
    "s = env.step(2)\n",
    "print(s[0]['direction'])\n",
    "observation_to_grid_representation(env)"
   ]
  },
  {
   "cell_type": "code",
   "execution_count": 178,
   "id": "enclosed-london",
   "metadata": {},
   "outputs": [
    {
     "name": "stdout",
     "output_type": "stream",
     "text": [
      "0\n"
     ]
    },
    {
     "data": {
      "text/plain": [
       "array([['#', '#', '#', '#', '#'],\n",
       "       ['#', '.', '.', '>', '#'],\n",
       "       ['#', '.', '.', '.', '#'],\n",
       "       ['#', '.', '.', 'G', '#'],\n",
       "       ['#', '#', '#', '#', '#']], dtype='<U1')"
      ]
     },
     "execution_count": 178,
     "metadata": {},
     "output_type": "execute_result"
    }
   ],
   "source": [
    "s = env.step(2)\n",
    "print(s[0]['direction'])\n",
    "observation_to_grid_representation(env)"
   ]
  },
  {
   "cell_type": "code",
   "execution_count": 179,
   "id": "suited-public",
   "metadata": {},
   "outputs": [
    {
     "name": "stdout",
     "output_type": "stream",
     "text": [
      "1\n"
     ]
    },
    {
     "data": {
      "text/plain": [
       "array([['#', '#', '#', '#', '#'],\n",
       "       ['#', '.', '.', 'V', '#'],\n",
       "       ['#', '.', '.', '.', '#'],\n",
       "       ['#', '.', '.', 'G', '#'],\n",
       "       ['#', '#', '#', '#', '#']], dtype='<U1')"
      ]
     },
     "execution_count": 179,
     "metadata": {},
     "output_type": "execute_result"
    }
   ],
   "source": [
    "s = env.step(1)\n",
    "print(s[0]['direction'])\n",
    "observation_to_grid_representation(env)"
   ]
  },
  {
   "cell_type": "code",
   "execution_count": 180,
   "id": "swiss-brave",
   "metadata": {},
   "outputs": [
    {
     "name": "stdout",
     "output_type": "stream",
     "text": [
      "1\n"
     ]
    },
    {
     "data": {
      "text/plain": [
       "array([['#', '#', '#', '#', '#'],\n",
       "       ['#', '.', '.', '.', '#'],\n",
       "       ['#', '.', '.', 'V', '#'],\n",
       "       ['#', '.', '.', 'G', '#'],\n",
       "       ['#', '#', '#', '#', '#']], dtype='<U1')"
      ]
     },
     "execution_count": 180,
     "metadata": {},
     "output_type": "execute_result"
    }
   ],
   "source": [
    "s = env.step(2)\n",
    "print(s[0]['direction'])\n",
    "observation_to_grid_representation(env)"
   ]
  },
  {
   "cell_type": "code",
   "execution_count": 181,
   "id": "productive-heaven",
   "metadata": {},
   "outputs": [
    {
     "name": "stdout",
     "output_type": "stream",
     "text": [
      "1\n"
     ]
    },
    {
     "data": {
      "text/plain": [
       "array([['#', '#', '#', '#', '#'],\n",
       "       ['#', '.', '.', '.', '#'],\n",
       "       ['#', '.', '.', '.', '#'],\n",
       "       ['#', '.', '.', 'V', '#'],\n",
       "       ['#', '#', '#', '#', '#']], dtype='<U1')"
      ]
     },
     "execution_count": 181,
     "metadata": {},
     "output_type": "execute_result"
    }
   ],
   "source": [
    "s = env.step(2)\n",
    "print(s[0]['direction'])\n",
    "observation_to_grid_representation(env)"
   ]
  },
  {
   "cell_type": "code",
   "execution_count": 182,
   "id": "excessive-beads",
   "metadata": {},
   "outputs": [
    {
     "data": {
      "text/plain": [
       "({'image': array([[[2, 5, 0],\n",
       "          [2, 5, 0],\n",
       "          [2, 5, 0],\n",
       "          [2, 5, 0],\n",
       "          [2, 5, 0],\n",
       "          [2, 5, 0],\n",
       "          [2, 5, 0]],\n",
       "  \n",
       "         [[2, 5, 0],\n",
       "          [2, 5, 0],\n",
       "          [2, 5, 0],\n",
       "          [2, 5, 0],\n",
       "          [2, 5, 0],\n",
       "          [2, 5, 0],\n",
       "          [2, 5, 0]],\n",
       "  \n",
       "         [[2, 5, 0],\n",
       "          [2, 5, 0],\n",
       "          [2, 5, 0],\n",
       "          [2, 5, 0],\n",
       "          [2, 5, 0],\n",
       "          [2, 5, 0],\n",
       "          [2, 5, 0]],\n",
       "  \n",
       "         [[2, 5, 0],\n",
       "          [2, 5, 0],\n",
       "          [2, 5, 0],\n",
       "          [2, 5, 0],\n",
       "          [2, 5, 0],\n",
       "          [2, 5, 0],\n",
       "          [1, 0, 0]],\n",
       "  \n",
       "         [[2, 5, 0],\n",
       "          [2, 5, 0],\n",
       "          [2, 5, 0],\n",
       "          [2, 5, 0],\n",
       "          [2, 5, 0],\n",
       "          [2, 5, 0],\n",
       "          [1, 0, 0]],\n",
       "  \n",
       "         [[2, 5, 0],\n",
       "          [2, 5, 0],\n",
       "          [2, 5, 0],\n",
       "          [2, 5, 0],\n",
       "          [2, 5, 0],\n",
       "          [2, 5, 0],\n",
       "          [1, 0, 0]],\n",
       "  \n",
       "         [[2, 5, 0],\n",
       "          [2, 5, 0],\n",
       "          [2, 5, 0],\n",
       "          [2, 5, 0],\n",
       "          [2, 5, 0],\n",
       "          [2, 5, 0],\n",
       "          [2, 5, 0]]], dtype=uint8),\n",
       "  'direction': 1,\n",
       "  'mission': 'get to the green goal square'},\n",
       " 0.892,\n",
       " True,\n",
       " False,\n",
       " {})"
      ]
     },
     "execution_count": 182,
     "metadata": {},
     "output_type": "execute_result"
    }
   ],
   "source": [
    "s"
   ]
  },
  {
   "cell_type": "code",
   "execution_count": 184,
   "id": "maritime-rendering",
   "metadata": {},
   "outputs": [
    {
     "data": {
      "text/plain": [
       "array([['#', '#', '#', '#', '#'],\n",
       "       ['#', '^', '#', '.', '#'],\n",
       "       ['#', '.', 'D', '.', '#'],\n",
       "       ['#', 'K', '#', 'G', '#'],\n",
       "       ['#', '#', '#', '#', '#']], dtype='<U1')"
      ]
     },
     "execution_count": 184,
     "metadata": {},
     "output_type": "execute_result"
    }
   ],
   "source": [
    "env = gym.make('MiniGrid-DoorKey-5x5-v0', render_mode=\"rgb_array\")\n",
    "s = env.reset()\n",
    "observation_to_grid_representation(env)"
   ]
  },
  {
   "cell_type": "code",
   "execution_count": null,
   "id": "guilty-queens",
   "metadata": {},
   "outputs": [],
   "source": []
  }
 ],
 "metadata": {
  "kernelspec": {
   "display_name": "Python 3",
   "language": "python",
   "name": "python3"
  },
  "language_info": {
   "codemirror_mode": {
    "name": "ipython",
    "version": 3
   },
   "file_extension": ".py",
   "mimetype": "text/x-python",
   "name": "python",
   "nbconvert_exporter": "python",
   "pygments_lexer": "ipython3",
   "version": "3.7.10"
  }
 },
 "nbformat": 4,
 "nbformat_minor": 5
}
