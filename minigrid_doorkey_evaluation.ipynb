{
 "cells": [
  {
   "cell_type": "code",
   "execution_count": 2,
   "id": "wanted-youth",
   "metadata": {},
   "outputs": [
    {
     "name": "stdout",
     "output_type": "stream",
     "text": [
      "{\n",
      "  \"name\": \"Assistant\",\n",
      "  \"description\": \"A computer program designed to simulate conversation with human-like dialogue\",\n",
      "  \"function\": \"Text-based conversational AI\",\n",
      "  \"creation\": \"Developed by Meta AI\",\n",
      "  \"abilities\": \"Answer questions, provide information, engage in conversation, and more\"\n",
      "}\n"
     ]
    }
   ],
   "source": [
    "from openai import OpenAI\n",
    "\n",
    "# The url is located in the .vLLM_model-variant_url file in the corresponding model directory.\n",
    "client = OpenAI(base_url=\"http://gpu049:8080/v1\", api_key=\"EMPTY\")\n",
    "\n",
    "# Update the model path accordingly\n",
    "completion = client.chat.completions.create(\n",
    "    model=\"Meta-Llama-3.1-8B-Instruct\",\n",
    "    messages=[\n",
    "        {\n",
    "            \"role\": \"system\",\n",
    "            \"content\": \"Please reply in the format of JSON\",\n",
    "        },\n",
    "        {\"role\": \"user\", \"content\": \"Who are you?\"},\n",
    "    ],\n",
    ")\n",
    "\n",
    "print(completion.choices[0].message.content)"
   ]
  },
  {
   "cell_type": "code",
   "execution_count": 3,
   "id": "editorial-healing",
   "metadata": {},
   "outputs": [],
   "source": [
    "# Evaluate Door Key 5*5"
   ]
  },
  {
   "cell_type": "code",
   "execution_count": 4,
   "id": "colonial-bangkok",
   "metadata": {},
   "outputs": [],
   "source": [
    "#Expert action assuming "
   ]
  },
  {
   "cell_type": "code",
   "execution_count": 5,
   "id": "answering-artwork",
   "metadata": {},
   "outputs": [
    {
     "name": "stdout",
     "output_type": "stream",
     "text": [
      "pygame 2.6.1 (SDL 2.28.4, Python 3.7.10)\n",
      "Hello from the pygame community. https://www.pygame.org/contribute.html\n"
     ]
    }
   ],
   "source": [
    "import gymnasium as gym\n",
    "import numpy as np\n",
    "import minigrid"
   ]
  },
  {
   "cell_type": "code",
   "execution_count": 6,
   "id": "devoted-christianity",
   "metadata": {},
   "outputs": [],
   "source": [
    "from minigrid.minigrid_env import MiniGridEnv\n",
    "from minigrid.wrappers import FullyObsWrapper"
   ]
  },
  {
   "cell_type": "code",
   "execution_count": 7,
   "id": "oriented-clerk",
   "metadata": {},
   "outputs": [],
   "source": [
    "def observation_to_grid_representation(env):\n",
    "    \"\"\"\n",
    "    Converts a MiniGrid environment observation into a grid representation.\n",
    "    \n",
    "    Args:\n",
    "        env: The MiniGrid environment object.    \n",
    "    Returns:\n",
    "        A 2D NumPy array representing the grid, where different objects are shown as characters.\n",
    "    \"\"\"\n",
    "    grid = np.full((env.width, env.height), ' ')  # Create an empty grid filled with spaces\n",
    "\n",
    "    # Iterate through each cell in the grid and map it to a corresponding symbol\n",
    "    for x in range(env.width):\n",
    "        for y in range(env.height):\n",
    "            obj = env.grid.get(x, y)\n",
    "            if obj is None:\n",
    "                grid[x, y] = '.'\n",
    "            else:\n",
    "                grid[x, y] = obj_to_char(obj)\n",
    "    \n",
    "    # Add the agent's position to the grid representation\n",
    "    agent_pos = env.agent_pos\n",
    "    agent_dir = env.agent_dir  # Agent's direction: 0=right, 1=down, 2=left, 3=up\n",
    "    grid[agent_pos[0], agent_pos[1]] = agent_dir_to_char(agent_dir)\n",
    "\n",
    "    return grid.T\n",
    "\n",
    "def obj_to_char(obj):\n",
    "    \"\"\"\n",
    "    Maps MiniGrid objects to characters for the grid representation.\n",
    "    \n",
    "    Args:\n",
    "        obj: The object from the MiniGrid environment.\n",
    "    \n",
    "    Returns:\n",
    "        A single character representing the object in the grid.\n",
    "    \"\"\"\n",
    "    if obj.type == 'wall':\n",
    "        return '#'\n",
    "    elif obj.type == 'goal':\n",
    "        return 'G'\n",
    "    elif obj.type == 'lava':\n",
    "        return 'L'\n",
    "    elif obj.type == 'door':\n",
    "        return 'D'\n",
    "    elif obj.type == 'key':\n",
    "        return 'K'\n",
    "    elif obj.type == 'ball':\n",
    "        return 'B'\n",
    "    elif obj.type == 'box':\n",
    "        return 'X'\n",
    "    elif obj.type == 'water':\n",
    "        return 'W'\n",
    "    else:\n",
    "        return '?'  # Unknown objects\n",
    "\n",
    "def agent_dir_to_char(agent_dir):\n",
    "    \"\"\"\n",
    "    Maps the agent's direction to a character for the grid representation.\n",
    "    \n",
    "    Args:\n",
    "        agent_dir: The direction the agent is facing (0=right, 1=down, 2=left, 3=up).\n",
    "    \n",
    "    Returns:\n",
    "        A single character representing the agent's facing direction.\n",
    "    \"\"\"\n",
    "#     AGENT_DIR_TO_STR = {0: \">\", 1: \"V\", 2: \"<\", 3: \"^\"}\n",
    "    AGENT_DIR_TO_STR = {0: \">\", 1: \"V\", 2: \"<\", 3: \"^\"}\n",
    "    if agent_dir in AGENT_DIR_TO_STR:\n",
    "        return AGENT_DIR_TO_STR[agent_dir]\n",
    "    else:\n",
    "        return 'A'  # Default character for the agent if direction is unknown\n"
   ]
  },
  {
   "cell_type": "code",
   "execution_count": 52,
   "id": "offensive-oregon",
   "metadata": {},
   "outputs": [
    {
     "data": {
      "text/plain": [
       "array([['#', '#', '#', '#', '#'],\n",
       "       ['#', '.', 'D', '.', '#'],\n",
       "       ['#', 'K', '#', '.', '#'],\n",
       "       ['#', '<', '#', 'G', '#'],\n",
       "       ['#', '#', '#', '#', '#']], dtype='<U1')"
      ]
     },
     "execution_count": 52,
     "metadata": {},
     "output_type": "execute_result"
    }
   ],
   "source": [
    "np.random.seed(1)\n",
    "env = gym.make('MiniGrid-DoorKey-5x5-v0', render_mode=\"rgb_array\")\n",
    "from minigrid.wrappers import ReseedWrapper\n",
    "env = ReseedWrapper(env, seeds=[0], seed_idx=0)\n",
    "s = env.reset()\n",
    "observation_to_grid_representation(env)"
   ]
  },
  {
   "cell_type": "code",
   "execution_count": 72,
   "id": "located-character",
   "metadata": {},
   "outputs": [],
   "source": [
    "#Expert action for this one\n",
    "#TODO: train a expert policy\n",
    "action_list=[1,3,2,2,1,5,2,2,1,2,2]"
   ]
  },
  {
   "cell_type": "code",
   "execution_count": 54,
   "id": "lasting-antique",
   "metadata": {},
   "outputs": [
    {
     "name": "stdout",
     "output_type": "stream",
     "text": [
      "[['#' '#' '#' '#' '#']\n",
      " ['#' '.' 'D' '.' '#']\n",
      " ['#' 'K' '#' '.' '#']\n",
      " ['#' '^' '#' 'G' '#']\n",
      " ['#' '#' '#' '#' '#']]\n",
      "[['#' '#' '#' '#' '#']\n",
      " ['#' '.' 'D' '.' '#']\n",
      " ['#' '.' '#' '.' '#']\n",
      " ['#' '^' '#' 'G' '#']\n",
      " ['#' '#' '#' '#' '#']]\n",
      "[['#' '#' '#' '#' '#']\n",
      " ['#' '.' 'D' '.' '#']\n",
      " ['#' '^' '#' '.' '#']\n",
      " ['#' '.' '#' 'G' '#']\n",
      " ['#' '#' '#' '#' '#']]\n",
      "[['#' '#' '#' '#' '#']\n",
      " ['#' '^' 'D' '.' '#']\n",
      " ['#' '.' '#' '.' '#']\n",
      " ['#' '.' '#' 'G' '#']\n",
      " ['#' '#' '#' '#' '#']]\n",
      "[['#' '#' '#' '#' '#']\n",
      " ['#' '>' 'D' '.' '#']\n",
      " ['#' '.' '#' '.' '#']\n",
      " ['#' '.' '#' 'G' '#']\n",
      " ['#' '#' '#' '#' '#']]\n",
      "[['#' '#' '#' '#' '#']\n",
      " ['#' '>' 'D' '.' '#']\n",
      " ['#' '.' '#' '.' '#']\n",
      " ['#' '.' '#' 'G' '#']\n",
      " ['#' '#' '#' '#' '#']]\n",
      "[['#' '#' '#' '#' '#']\n",
      " ['#' '.' '>' '.' '#']\n",
      " ['#' '.' '#' '.' '#']\n",
      " ['#' '.' '#' 'G' '#']\n",
      " ['#' '#' '#' '#' '#']]\n",
      "[['#' '#' '#' '#' '#']\n",
      " ['#' '.' 'D' '>' '#']\n",
      " ['#' '.' '#' '.' '#']\n",
      " ['#' '.' '#' 'G' '#']\n",
      " ['#' '#' '#' '#' '#']]\n",
      "[['#' '#' '#' '#' '#']\n",
      " ['#' '.' 'D' 'V' '#']\n",
      " ['#' '.' '#' '.' '#']\n",
      " ['#' '.' '#' 'G' '#']\n",
      " ['#' '#' '#' '#' '#']]\n",
      "[['#' '#' '#' '#' '#']\n",
      " ['#' '.' 'D' '.' '#']\n",
      " ['#' '.' '#' 'V' '#']\n",
      " ['#' '.' '#' 'G' '#']\n",
      " ['#' '#' '#' '#' '#']]\n",
      "[['#' '#' '#' '#' '#']\n",
      " ['#' '.' 'D' '.' '#']\n",
      " ['#' '.' '#' '.' '#']\n",
      " ['#' '.' '#' 'V' '#']\n",
      " ['#' '#' '#' '#' '#']]\n"
     ]
    }
   ],
   "source": [
    "for a in action_list:\n",
    "    s = env.step(a)\n",
    "    print(observation_to_grid_representation(env))"
   ]
  },
  {
   "cell_type": "code",
   "execution_count": 23,
   "id": "threatened-childhood",
   "metadata": {},
   "outputs": [
    {
     "data": {
      "text/plain": [
       "array([['#', '#', '#', '#', '#'],\n",
       "       ['#', '.', 'D', '.', '#'],\n",
       "       ['#', '^', '#', '.', '#'],\n",
       "       ['#', '.', '#', 'G', '#'],\n",
       "       ['#', '#', '#', '#', '#']], dtype='<U1')"
      ]
     },
     "execution_count": 23,
     "metadata": {},
     "output_type": "execute_result"
    }
   ],
   "source": []
  },
  {
   "cell_type": "code",
   "execution_count": 24,
   "id": "representative-canberra",
   "metadata": {},
   "outputs": [
    {
     "data": {
      "text/plain": [
       "array([['#', '#', '#', '#', '#'],\n",
       "       ['#', '^', 'D', '.', '#'],\n",
       "       ['#', '.', '#', '.', '#'],\n",
       "       ['#', '.', '#', 'G', '#'],\n",
       "       ['#', '#', '#', '#', '#']], dtype='<U1')"
      ]
     },
     "execution_count": 24,
     "metadata": {},
     "output_type": "execute_result"
    }
   ],
   "source": [
    "s = env.step(2)\n",
    "observation_to_grid_representation(env)"
   ]
  },
  {
   "cell_type": "code",
   "execution_count": 25,
   "id": "ahead-mobile",
   "metadata": {},
   "outputs": [
    {
     "data": {
      "text/plain": [
       "array([['#', '#', '#', '#', '#'],\n",
       "       ['#', '>', 'D', '.', '#'],\n",
       "       ['#', '.', '#', '.', '#'],\n",
       "       ['#', '.', '#', 'G', '#'],\n",
       "       ['#', '#', '#', '#', '#']], dtype='<U1')"
      ]
     },
     "execution_count": 25,
     "metadata": {},
     "output_type": "execute_result"
    }
   ],
   "source": [
    "s = env.step(1)\n",
    "observation_to_grid_representation(env)"
   ]
  },
  {
   "cell_type": "code",
   "execution_count": 27,
   "id": "split-family",
   "metadata": {},
   "outputs": [
    {
     "data": {
      "text/plain": [
       "array([['#', '#', '#', '#', '#'],\n",
       "       ['#', '.', '>', '.', '#'],\n",
       "       ['#', '.', '#', '.', '#'],\n",
       "       ['#', '.', '#', 'G', '#'],\n",
       "       ['#', '#', '#', '#', '#']], dtype='<U1')"
      ]
     },
     "execution_count": 27,
     "metadata": {},
     "output_type": "execute_result"
    }
   ],
   "source": [
    "s = env.step(2)\n",
    "observation_to_grid_representation(env)"
   ]
  },
  {
   "cell_type": "code",
   "execution_count": 28,
   "id": "attached-harris",
   "metadata": {},
   "outputs": [
    {
     "data": {
      "text/plain": [
       "array([['#', '#', '#', '#', '#'],\n",
       "       ['#', '.', 'D', '>', '#'],\n",
       "       ['#', '.', '#', '.', '#'],\n",
       "       ['#', '.', '#', 'G', '#'],\n",
       "       ['#', '#', '#', '#', '#']], dtype='<U1')"
      ]
     },
     "execution_count": 28,
     "metadata": {},
     "output_type": "execute_result"
    }
   ],
   "source": [
    "s = env.step(2)\n",
    "observation_to_grid_representation(env)"
   ]
  },
  {
   "cell_type": "code",
   "execution_count": 65,
   "id": "excited-slave",
   "metadata": {},
   "outputs": [],
   "source": [
    "def array_to_string(arr):\n",
    "    # Join each row into a string, and then join all rows with newline characters\n",
    "    return \"\\n\".join(\"\".join(row) for row in arr)"
   ]
  },
  {
   "cell_type": "code",
   "execution_count": 67,
   "id": "difficult-recognition",
   "metadata": {},
   "outputs": [
    {
     "data": {
      "text/plain": [
       "array([['#', '#', '#', '#', '#'],\n",
       "       ['#', '.', 'D', '.', '#'],\n",
       "       ['#', '.', '#', '.', '#'],\n",
       "       ['#', '.', '#', 'V', '#'],\n",
       "       ['#', '#', '#', '#', '#']], dtype='<U1')"
      ]
     },
     "execution_count": 67,
     "metadata": {},
     "output_type": "execute_result"
    }
   ],
   "source": [
    "t"
   ]
  },
  {
   "cell_type": "code",
   "execution_count": 66,
   "id": "lined-twelve",
   "metadata": {},
   "outputs": [
    {
     "data": {
      "text/plain": [
       "'#####\\n#.D.#\\n#.#.#\\n#.#V#\\n#####'"
      ]
     },
     "execution_count": 66,
     "metadata": {},
     "output_type": "execute_result"
    }
   ],
   "source": [
    "array_to_string(t)"
   ]
  },
  {
   "cell_type": "code",
   "execution_count": 80,
   "id": "ranging-absolute",
   "metadata": {},
   "outputs": [],
   "source": [
    "prompt_doorkey = \"We are dealing with Minigrid Doorkey.\\nBelow is the problem description:\\nMinigrid Doorkey involves crossing a gridworld, where you need to pick up the key, unlock the door and reach the goal.\\nThe state is described with an ASCII art. In the ASCII art, “#” means wall. “K” means key. “D” mean door. “G” means goal. “.” means empty tile. “^” mean the agent who is facing upwards. “V” mean the agent who is facing downwards. “<” means the agent who is facing leftwards. “>” means the agent who is facing rightwards.\\n\\nThe possible actions are:\\n\\n1. turn left, changing the direction to left, for example, the agent “^” will become “<”.\\n2. turn right, changing the direction to right, for example, the agent “^” will become “>”.\\n3. move forward, moving forwards for one tile\\n4. pick up the key\\n5. unlock the door, this action is only possible when you have the key\\n\\nYou will be answering the question following this template:\\n\\nGiven this state: <STATE>\\n\\nGiven the action: <ACTION>\\nIs this action good or bad? Please think step by step. A good action can lead you closer to the goal and help you get the key to unlock the door.\\n\\nPlease answer in JSON with two fields:\\n\\nReason: <REASON>\\nFeedback: <GOOD_OR_BAD>\""
   ]
  },
  {
   "cell_type": "code",
   "execution_count": 77,
   "id": "verbal-procedure",
   "metadata": {},
   "outputs": [],
   "source": [
    "action_dict = {\n",
    "    0:\"turn left\",\n",
    "    1:\"turn right\",\n",
    "    2:\"move forward\",\n",
    "    3:\"pick up the key\",\n",
    "    5:\"unlock the door\"\n",
    "}\n",
    "action_list = [0, 1, 2, 3, 5]"
   ]
  },
  {
   "cell_type": "code",
   "execution_count": 81,
   "id": "contemporary-ireland",
   "metadata": {},
   "outputs": [],
   "source": [
    "def prompt_construct_binary_feedback_doorkey_seed0(env, action):\n",
    "    \"\"\"\n",
    "    Given this state: <STATE>  \\r\\nGiven the action: <ACTION>\\r\\nIs this action good or bad? Let\\'s think step by step.\\r\\nThe action is: <GOOD_OR_BAD>\\r\\n\n",
    "    \"\"\"\n",
    "    state_str = array_to_string(observation_to_grid_representation(env))\n",
    "    \n",
    "    action_str = action_dict[action]\n",
    "    final_prompt = \"Given this state: \" + state_str + \"\\r\\nGiven the action: \" + action_str + \"\\nIs this action good or bad? Let\\'s think step by step. A good action can lead you closer to the goal and help you get the key to unlock the door.\\nPlease answer in JSON with two fields:\\n\\nReason: <REASON>\\nFeedback: <GOOD_OR_BAD>\"\n",
    "    return final_prompt\n",
    "\n",
    "import json\n",
    "\n",
    "def json_to_dict(json_str):\n",
    "    \"\"\"\n",
    "    Convert a JSON string to a Python dictionary.\n",
    "    \n",
    "    Parameters:\n",
    "    json_str (str): A string formatted as JSON\n",
    "    \n",
    "    Returns:\n",
    "    dict: A Python dictionary representation of the JSON string\n",
    "    \"\"\"\n",
    "    try:\n",
    "        return json.loads(json_str)\n",
    "    except json.JSONDecodeError as e:\n",
    "        print(f\"Error decoding JSON: {e}\")\n",
    "        return None\n",
    "\n",
    "def json_response_to_binary_feedback(json_str):\n",
    "    dict_response = json_to_dict(json_str)\n",
    "    if dict_response is not None:\n",
    "        if dict_response[\"Feedback\"].lower() == \"good\" :\n",
    "            return +1\n",
    "        else:\n",
    "            return -1\n",
    "    else:\n",
    "        return 0"
   ]
  },
  {
   "cell_type": "code",
   "execution_count": 82,
   "id": "wound-theta",
   "metadata": {},
   "outputs": [
    {
     "data": {
      "text/plain": [
       "array([['#', '#', '#', '#', '#'],\n",
       "       ['#', '.', 'D', '.', '#'],\n",
       "       ['#', 'K', '#', '.', '#'],\n",
       "       ['#', '<', '#', 'G', '#'],\n",
       "       ['#', '#', '#', '#', '#']], dtype='<U1')"
      ]
     },
     "execution_count": 82,
     "metadata": {},
     "output_type": "execute_result"
    }
   ],
   "source": [
    "np.random.seed(1)\n",
    "env = gym.make('MiniGrid-DoorKey-5x5-v0', render_mode=\"rgb_array\")\n",
    "from minigrid.wrappers import ReseedWrapper\n",
    "env = ReseedWrapper(env, seeds=[0], seed_idx=0)\n",
    "s = env.reset()\n",
    "observation_to_grid_representation(env)"
   ]
  },
  {
   "cell_type": "code",
   "execution_count": 76,
   "id": "dietary-stupid",
   "metadata": {},
   "outputs": [],
   "source": [
    "expert_action_list=[1,3,2,2,1,5,2,2,1,2,2]"
   ]
  },
  {
   "cell_type": "code",
   "execution_count": 87,
   "id": "liked-islam",
   "metadata": {},
   "outputs": [],
   "source": [
    "feedback_client = OpenAI(base_url=\"http://gpu049:8080/v1\", api_key=\"EMPTY\")\n",
    "def get_feedback(client, content:str=\"\", model=\"Meta-Llama-3.1-8B-Instruct\", prompt:str=\"\"):\n",
    "    \"\"\"\n",
    "    state, action, url_in_vec_inf\n",
    "    \"\"\"\n",
    "    # Update the model path accordingly\n",
    "    completion = client.chat.completions.create(\n",
    "        model=model,\n",
    "        messages=[\n",
    "            {\n",
    "                \"role\": \"system\",\n",
    "                \"content\": content,\n",
    "            },\n",
    "            {\"role\": \"user\", \"content\": prompt},\n",
    "        ],\n",
    "    )\n",
    "\n",
    "    return completion"
   ]
  },
  {
   "cell_type": "code",
   "execution_count": 90,
   "id": "informative-religion",
   "metadata": {},
   "outputs": [
    {
     "name": "stdout",
     "output_type": "stream",
     "text": [
      "Progress:  0.0\n",
      "Progress:  0.09090909090909091\n",
      "Progress:  0.18181818181818182\n",
      "Progress:  0.2727272727272727\n",
      "Error decoding JSON: Expecting value: line 1 column 1 (char 0)\n",
      "Progress:  0.36363636363636365\n",
      "Progress:  0.45454545454545453\n",
      "Progress:  0.5454545454545454\n",
      "Progress:  0.6363636363636364\n",
      "Progress:  0.7272727272727273\n",
      "Progress:  0.8181818181818182\n",
      "Progress:  0.9090909090909091\n",
      "Progress:  0.0\n",
      "Progress:  0.09090909090909091\n",
      "Progress:  0.18181818181818182\n",
      "Progress:  0.2727272727272727\n",
      "Progress:  0.36363636363636365\n",
      "Progress:  0.45454545454545453\n",
      "Progress:  0.5454545454545454\n",
      "Progress:  0.6363636363636364\n",
      "Progress:  0.7272727272727273\n",
      "Progress:  0.8181818181818182\n",
      "Progress:  0.9090909090909091\n",
      "Progress:  0.0\n",
      "Progress:  0.09090909090909091\n",
      "Progress:  0.18181818181818182\n",
      "Progress:  0.2727272727272727\n",
      "Progress:  0.36363636363636365\n",
      "Progress:  0.45454545454545453\n",
      "Progress:  0.5454545454545454\n",
      "Progress:  0.6363636363636364\n",
      "Error decoding JSON: Expecting value: line 1 column 1 (char 0)\n",
      "Progress:  0.7272727272727273\n",
      "Progress:  0.8181818181818182\n",
      "Progress:  0.9090909090909091\n",
      "Progress:  0.0\n",
      "Progress:  0.09090909090909091\n",
      "Error decoding JSON: Expecting value: line 1 column 1 (char 0)\n",
      "Progress:  0.18181818181818182\n",
      "Progress:  0.2727272727272727\n",
      "Progress:  0.36363636363636365\n",
      "Progress:  0.45454545454545453\n",
      "Progress:  0.5454545454545454\n",
      "Progress:  0.6363636363636364\n",
      "Progress:  0.7272727272727273\n",
      "Progress:  0.8181818181818182\n",
      "Progress:  0.9090909090909091\n",
      "Error decoding JSON: Expecting value: line 1 column 1 (char 0)\n",
      "Progress:  0.0\n",
      "Progress:  0.09090909090909091\n",
      "Progress:  0.18181818181818182\n",
      "Progress:  0.2727272727272727\n",
      "Error decoding JSON: Expecting value: line 1 column 1 (char 0)\n",
      "Error decoding JSON: Expecting ',' delimiter: line 3 column 3 (char 339)\n",
      "Progress:  0.36363636363636365\n",
      "Progress:  0.45454545454545453\n",
      "Progress:  0.5454545454545454\n",
      "Progress:  0.6363636363636364\n",
      "Progress:  0.7272727272727273\n",
      "Progress:  0.8181818181818182\n",
      "Error decoding JSON: Expecting value: line 1 column 1 (char 0)\n",
      "Progress:  0.9090909090909091\n"
     ]
    }
   ],
   "source": [
    "#Evaluate by traversing:\n",
    "repeats = 5\n",
    "length = len(expert_action_list)\n",
    "action_dim = len(action_list)\n",
    "feedback_array = np.zeros([length, action_dim, repeats])\n",
    "expert_feedback_array = np.zeros([length, action_dim, repeats])\n",
    "correct_or_not = np.zeros([length, action_dim, repeats])\n",
    "response_array = []\n",
    "for i in range(repeats):\n",
    "    s = env.reset()\n",
    "    for index, expert_action in enumerate(expert_action_list):\n",
    "        print(\"Progress: \", index/length)\n",
    "        for action_index, action in enumerate(action_list):\n",
    "            binary_feedback_prompt = prompt_construct_binary_feedback_doorkey_seed0(env, action)\n",
    "            completion = get_feedback(client=feedback_client, content=prompt_doorkey, model=\"Meta-Llama-3.1-8B-Instruct\", prompt=binary_feedback_prompt)\n",
    "            feedback = json_response_to_binary_feedback(completion.choices[0].message.content)\n",
    "            expert_feedback = 0\n",
    "            if action == expert_action:\n",
    "                expert_feedback = +1\n",
    "            else:\n",
    "                expert_feedback = -1\n",
    "#             print(index, action, i)\n",
    "            feedback_array[index][action_index][i] = feedback\n",
    "            expert_feedback_array[index][action_index][i] = expert_feedback\n",
    "            correct_or_not[index][action_index][i] = 1 if feedback == expert_feedback else -1\n",
    "#             response_array[state][action][i] = completion.choices[0].message.content\n",
    "            response_array.append(completion.choices[0].message.content)\n",
    "    np.save(\"doorkeyseed0_feedback_array\", feedback_array)\n",
    "    np.save(\"doorkeyseed0_expert_feedback_array\", expert_feedback_array)\n",
    "    np.save(\"doorkeyseed0_binary_correct_or_not\", correct_or_not)\n",
    "    np.save(\"doorkeyseed0_binary_response\", np.asarray(response_array))"
   ]
  },
  {
   "cell_type": "code",
   "execution_count": null,
   "id": "empty-ridge",
   "metadata": {},
   "outputs": [],
   "source": []
  }
 ],
 "metadata": {
  "kernelspec": {
   "display_name": "Python 3",
   "language": "python",
   "name": "python3"
  },
  "language_info": {
   "codemirror_mode": {
    "name": "ipython",
    "version": 3
   },
   "file_extension": ".py",
   "mimetype": "text/x-python",
   "name": "python",
   "nbconvert_exporter": "python",
   "pygments_lexer": "ipython3",
   "version": "3.7.10"
  }
 },
 "nbformat": 4,
 "nbformat_minor": 5
}
