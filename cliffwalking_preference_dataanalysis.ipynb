{
 "cells": [
  {
   "cell_type": "code",
   "execution_count": 1,
   "id": "described-wallpaper",
   "metadata": {},
   "outputs": [],
   "source": [
    "import numpy as np\n",
    "import matplotlib.pyplot as plt"
   ]
  },
  {
   "cell_type": "code",
   "execution_count": 2,
   "id": "optional-niagara",
   "metadata": {},
   "outputs": [
    {
     "name": "stdout",
     "output_type": "stream",
     "text": [
      "Defaulting to user installation because normal site-packages is not writeable\n",
      "Requirement already satisfied: seaborn in /fs01/home/yuxuanli/.local/lib/python3.7/site-packages (0.12.2)\n",
      "Requirement already satisfied: numpy!=1.24.0,>=1.17 in /fs01/home/yuxuanli/.local/lib/python3.7/site-packages (from seaborn) (1.21.6)\n",
      "Requirement already satisfied: matplotlib!=3.6.1,>=3.1 in /fs01/home/yuxuanli/.local/lib/python3.7/site-packages (from seaborn) (3.5.3)\n",
      "Requirement already satisfied: typing_extensions in /fs01/home/yuxuanli/.local/lib/python3.7/site-packages (from seaborn) (4.7.1)\n",
      "Requirement already satisfied: pandas>=0.25 in /fs01/home/yuxuanli/.local/lib/python3.7/site-packages (from seaborn) (1.3.5)\n",
      "Requirement already satisfied: pillow>=6.2.0 in /fs01/home/yuxuanli/.local/lib/python3.7/site-packages (from matplotlib!=3.6.1,>=3.1->seaborn) (9.5.0)\n",
      "Requirement already satisfied: fonttools>=4.22.0 in /fs01/home/yuxuanli/.local/lib/python3.7/site-packages (from matplotlib!=3.6.1,>=3.1->seaborn) (4.38.0)\n",
      "Requirement already satisfied: pyparsing>=2.2.1 in /fs01/pkgs/jupyterhub/lib/python3.7/site-packages (from matplotlib!=3.6.1,>=3.1->seaborn) (2.4.7)\n",
      "Requirement already satisfied: kiwisolver>=1.0.1 in /fs01/home/yuxuanli/.local/lib/python3.7/site-packages (from matplotlib!=3.6.1,>=3.1->seaborn) (1.4.5)\n",
      "Requirement already satisfied: cycler>=0.10 in /fs01/home/yuxuanli/.local/lib/python3.7/site-packages (from matplotlib!=3.6.1,>=3.1->seaborn) (0.11.0)\n",
      "Requirement already satisfied: python-dateutil>=2.7 in /fs01/pkgs/jupyterhub/lib/python3.7/site-packages (from matplotlib!=3.6.1,>=3.1->seaborn) (2.8.1)\n",
      "Requirement already satisfied: packaging>=20.0 in /fs01/pkgs/jupyterhub/lib/python3.7/site-packages (from matplotlib!=3.6.1,>=3.1->seaborn) (20.9)\n",
      "Requirement already satisfied: pytz>=2017.3 in /fs01/pkgs/jupyterhub/lib/python3.7/site-packages (from pandas>=0.25->seaborn) (2021.1)\n",
      "Requirement already satisfied: six>=1.5 in /fs01/pkgs/jupyterhub/lib/python3.7/site-packages (from python-dateutil>=2.7->matplotlib!=3.6.1,>=3.1->seaborn) (1.15.0)\n"
     ]
    }
   ],
   "source": [
    "!pip install seaborn\n",
    "import seaborn as sns"
   ]
  },
  {
   "cell_type": "code",
   "execution_count": 3,
   "id": "macro-refrigerator",
   "metadata": {},
   "outputs": [],
   "source": [
    "feedback_array = np.load(\"cliff_walking_preference_array.npy\")\n",
    "expert_feedback_array = np.load(\"cliff_walking_expert_preference_array.npy\", )\n",
    "correct_or_not = np.load(\"cliff_walking_preference_correct_or_not.npy\", )\n",
    "response_array = np.load(\"cliff_walking_preference_response.npy\")        "
   ]
  },
  {
   "cell_type": "code",
   "execution_count": 4,
   "id": "naked-explosion",
   "metadata": {},
   "outputs": [],
   "source": [
    "response_array = response_array.reshape(feedback_array.shape)"
   ]
  },
  {
   "cell_type": "code",
   "execution_count": 5,
   "id": "parallel-compression",
   "metadata": {},
   "outputs": [],
   "source": [
    "action_dim = 4"
   ]
  },
  {
   "cell_type": "code",
   "execution_count": 6,
   "id": "global-voice",
   "metadata": {},
   "outputs": [
    {
     "data": {
      "text/plain": [
       "(48, 4, 4, 3)"
      ]
     },
     "execution_count": 6,
     "metadata": {},
     "output_type": "execute_result"
    }
   ],
   "source": [
    "correct_or_not.shape"
   ]
  },
  {
   "cell_type": "code",
   "execution_count": 7,
   "id": "imposed-bulletin",
   "metadata": {},
   "outputs": [],
   "source": [
    "correct_or_not[:, 0, 0] = 0\n",
    "correct_or_not[:, 1, 1] = 0\n",
    "correct_or_not[:, 2, 2] = 0\n",
    "correct_or_not[:, 3, 3] = 0"
   ]
  },
  {
   "cell_type": "code",
   "execution_count": null,
   "id": "seventh-botswana",
   "metadata": {},
   "outputs": [],
   "source": []
  },
  {
   "cell_type": "code",
   "execution_count": 8,
   "id": "social-component",
   "metadata": {},
   "outputs": [
    {
     "data": {
      "text/plain": [
       "(48, 4, 4, 3)"
      ]
     },
     "execution_count": 8,
     "metadata": {},
     "output_type": "execute_result"
    }
   ],
   "source": [
    "np.where(correct_or_not == 1, 1, 0).shape"
   ]
  },
  {
   "cell_type": "code",
   "execution_count": 9,
   "id": "thermal-indication",
   "metadata": {},
   "outputs": [],
   "source": [
    "repeat = feedback_array.shape[-1]"
   ]
  },
  {
   "cell_type": "code",
   "execution_count": 10,
   "id": "formed-ballet",
   "metadata": {},
   "outputs": [],
   "source": [
    "correction_rate_array = np.where(correct_or_not == 1, 1, 0).sum(-1)/repeat"
   ]
  },
  {
   "cell_type": "code",
   "execution_count": 11,
   "id": "presidential-purse",
   "metadata": {},
   "outputs": [
    {
     "data": {
      "text/plain": [
       "(48, 4, 4)"
      ]
     },
     "execution_count": 11,
     "metadata": {},
     "output_type": "execute_result"
    }
   ],
   "source": [
    "correction_rate_array.shape"
   ]
  },
  {
   "cell_type": "code",
   "execution_count": 12,
   "id": "sacred-enterprise",
   "metadata": {},
   "outputs": [
    {
     "name": "stdout",
     "output_type": "stream",
     "text": [
      "[0.3125     0.27083333 0.29166667 0.47916667 0.33333333 0.3125\n",
      " 0.39583333 0.35416667 0.33333333 0.3125     0.39583333 0.1875\n",
      " 0.29166667 0.35416667 0.375      0.375      0.375      0.35416667\n",
      " 0.39583333 0.29166667 0.41666667 0.39583333 0.45833333 0.20833333\n",
      " 0.41666667 0.39583333 0.39583333 0.3125     0.33333333 0.29166667\n",
      " 0.3125     0.375      0.3125     0.3125     0.33333333 0.1875\n",
      " 0.1875     0.39583333 0.39583333 0.39583333 0.39583333 0.33333333\n",
      " 0.33333333 0.41666667 0.4375     0.375      0.27083333 0.3125    ]\n"
     ]
    }
   ],
   "source": [
    "state_wise_prefrence_correction_rate = correction_rate_array.sum(-1).sum(-1)/(action_dim*action_dim)\n",
    "print(state_wise_prefrence_correction_rate)"
   ]
  },
  {
   "cell_type": "code",
   "execution_count": 13,
   "id": "retired-poker",
   "metadata": {},
   "outputs": [
    {
     "data": {
      "image/png": "[encoded data removed]",
      "text/plain": [
       "<Figure size 864x288 with 2 Axes>"
      ]
     },
     "metadata": {
      "needs_background": "light"
     },
     "output_type": "display_data"
    }
   ],
   "source": [
    "plt.figure(figsize=(12, 4))\n",
    "ax = sns.heatmap(state_wise_prefrence_correction_rate.reshape(4,12), annot=True)\n",
    "# plt.yticks(ticks=[0, 1, 2, 3], labels=['up', 'right', 'down', 'left'])\n",
    "# coor_list = [\"\\({i},{j}\\)\".format(i=counter//12, j=counter%12) for counter in range(48)]\n",
    "# plt.xticks(ticks=np.arange(48), labels=coor_list)"
   ]
  },
  {
   "cell_type": "code",
   "execution_count": 14,
   "id": "preliminary-scheme",
   "metadata": {},
   "outputs": [],
   "source": [
    "#Overall correction rate (not excluding cliff)\n",
    "state_num = correct_or_not.shape[0]\n",
    "action_num = correct_or_not.shape[1]\n",
    "correction_rate = np.where(correct_or_not == 1, 1, 0).sum()/(state_num*action_num*action_num*repeat)"
   ]
  },
  {
   "cell_type": "code",
   "execution_count": 15,
   "id": "cutting-happiness",
   "metadata": {},
   "outputs": [
    {
     "data": {
      "text/plain": [
       "0.65625"
      ]
     },
     "execution_count": 15,
     "metadata": {},
     "output_type": "execute_result"
    }
   ],
   "source": [
    "1-correction_rate"
   ]
  },
  {
   "cell_type": "code",
   "execution_count": 16,
   "id": "absolute-witness",
   "metadata": {},
   "outputs": [],
   "source": [
    "# Excluding impossible area\n",
    "binary_correct_or_not_matrix = np.where(correct_or_not == 1, 1, 0)\n",
    "binary_correct_or_not_matrix[37:48, :, :,:] = np.zeros([11, action_num, action_num, repeat])"
   ]
  },
  {
   "cell_type": "code",
   "execution_count": 17,
   "id": "perfect-vault",
   "metadata": {},
   "outputs": [],
   "source": [
    "# Correction rate in respect to states\n",
    "state_wise_correction_rate = binary_correct_or_not_matrix.sum(-1).sum(-1).sum(-1)"
   ]
  },
  {
   "cell_type": "code",
   "execution_count": 18,
   "id": "noted-scholar",
   "metadata": {},
   "outputs": [],
   "source": [
    "state_wise_correction_rate = state_wise_correction_rate.reshape(4,12)/(action_num*action_num*repeat)"
   ]
  },
  {
   "cell_type": "code",
   "execution_count": 19,
   "id": "monthly-carpet",
   "metadata": {},
   "outputs": [
    {
     "data": {
      "image/png": "[encoded data removed]",
      "text/plain": [
       "<Figure size 864x288 with 2 Axes>"
      ]
     },
     "metadata": {
      "needs_background": "light"
     },
     "output_type": "display_data"
    }
   ],
   "source": [
    "plt.figure(figsize=(12, 4))\n",
    "ax = sns.heatmap(state_wise_correction_rate, annot=True)"
   ]
  },
  {
   "cell_type": "code",
   "execution_count": 20,
   "id": "objective-pencil",
   "metadata": {},
   "outputs": [
    {
     "data": {
      "text/plain": [
       "0.6638513513513513"
      ]
     },
     "execution_count": 20,
     "metadata": {},
     "output_type": "execute_result"
    }
   ],
   "source": [
    "# Overal noise excluding imposssible areas\n",
    "1-binary_correct_or_not_matrix.sum() / ((state_num-11)*action_num*action_num*repeat )\n"
   ]
  },
  {
   "cell_type": "code",
   "execution_count": 21,
   "id": "intellectual-gilbert",
   "metadata": {},
   "outputs": [],
   "source": [
    "# Excluding all except for optimal path\n",
    "optimal_path_only_matrix = np.where(correct_or_not == 1, 1, 0)\n",
    "optimal_path_only_matrix[37:48, :, :, :] = np.zeros([11, action_num, action_num, repeat])\n",
    "optimal_path_only_matrix[0:24, :, :, :] = np.zeros([24, action_num, action_num, repeat])"
   ]
  },
  {
   "cell_type": "code",
   "execution_count": 22,
   "id": "removed-tunisia",
   "metadata": {},
   "outputs": [],
   "source": [
    "optimal_path_only_matrix_correction_rate = optimal_path_only_matrix.sum(-1).sum(-1).sum(-1).reshape(4,12)/(action_num*action_num*repeat)"
   ]
  },
  {
   "cell_type": "code",
   "execution_count": 23,
   "id": "variable-treaty",
   "metadata": {},
   "outputs": [
    {
     "data": {
      "image/png": "[encoded data removed]",
      "text/plain": [
       "<Figure size 864x288 with 2 Axes>"
      ]
     },
     "metadata": {
      "needs_background": "light"
     },
     "output_type": "display_data"
    }
   ],
   "source": [
    "plt.figure(figsize=(12, 4))\n",
    "ax = sns.heatmap(optimal_path_only_matrix_correction_rate, annot=True)"
   ]
  },
  {
   "cell_type": "code",
   "execution_count": 24,
   "id": "rental-commission",
   "metadata": {},
   "outputs": [
    {
     "data": {
      "text/plain": [
       "0.6794871794871795"
      ]
     },
     "execution_count": 24,
     "metadata": {},
     "output_type": "execute_result"
    }
   ],
   "source": [
    "1-optimal_path_only_matrix.sum() / (13*action_num*action_num*repeat )"
   ]
  },
  {
   "cell_type": "code",
   "execution_count": 25,
   "id": "blond-virus",
   "metadata": {},
   "outputs": [],
   "source": [
    "response_array = response_array.reshape(4, 12, 4, 4, 3)"
   ]
  },
  {
   "cell_type": "code",
   "execution_count": 26,
   "id": "balanced-edition",
   "metadata": {},
   "outputs": [
    {
     "data": {
      "text/plain": [
       "array(['{\\n\\n\"Reason\": \"move up is closer to the goal and does not hit the boundary or fall off the cliff, while move left hits the boundary\",\\n\\n\"Preference\": \"1\" \\n\\n}',\n",
       "       '{\\n  \"Reason\": \"Moving right is closer to the goal, and moving up will not lead to the goal but is a safe action.\",\\n  \"Preference\": \"1\"\\n}',\n",
       "       '{\\n  \"Reason\": \"Both actions will lead to the same location [1,0] and then you can move right again to [2,0], but move right once is the optimal choice to be closer to the goal.\",\\n  \"Preference\": \"1\"\\n}'],\n",
       "      dtype='<U2684')"
      ]
     },
     "execution_count": 26,
     "metadata": {},
     "output_type": "execute_result"
    }
   ],
   "source": [
    "response_array[3, 0, 0, 1]"
   ]
  },
  {
   "cell_type": "code",
   "execution_count": null,
   "id": "documentary-publication",
   "metadata": {},
   "outputs": [],
   "source": []
  },
  {
   "cell_type": "code",
   "execution_count": 27,
   "id": "funded-malpractice",
   "metadata": {},
   "outputs": [
    {
     "data": {
      "text/plain": [
       "array(['{\\n\\n\"Reason\": \"Moving right will bring you closer to the goal, whereas moving down would move you closer to the cliff but not closer to the goal.\",\\n\"Preference\": \"1\"\\n\\n}',\n",
       "       'Given this state: [0,9]\\nGiven action1: move right\\nGiven the action2: move left\\nWhich action is better?\\n\\nSince the current state is [0,9], move right will increase the y-coordinate by 1, which can potentially bring the agent closer to the goal located at [3,11]. On the other hand, move left will decrease the y-coordinate by 1, which will move the agent away from the goal.\\n\\nThe y-coordinate of the goal is 11, and the current y-coordinate is 9. Moving right will bring the agent closer to the goal, while moving left will move the agent further away.\\n\\nGiven this analysis, we can determine that:\\n\\n{\\n\"Reason\": \"Moving right brings the agent closer to the goal.\",\\n\"Preference\": \"1\"\\n}',\n",
       "       '{\\n  \"Reason\": \"Moving down will lead to [1,9], which is closer to the goal [3,11] than moving up which will lead to [-1,9]. However, moving down will also make us hit the boundary, whereas moving up will not.\",\\n  \"Preference\": \"1<2\"\\n}'],\n",
       "      dtype='<U2684')"
      ]
     },
     "execution_count": 27,
     "metadata": {},
     "output_type": "execute_result"
    }
   ],
   "source": [
    "response_array[2, 11, 0, 2]"
   ]
  },
  {
   "cell_type": "code",
   "execution_count": null,
   "id": "infrared-mining",
   "metadata": {},
   "outputs": [],
   "source": []
  },
  {
   "cell_type": "code",
   "execution_count": null,
   "id": "referenced-jerusalem",
   "metadata": {},
   "outputs": [],
   "source": []
  },
  {
   "cell_type": "code",
   "execution_count": null,
   "id": "preceding-knock",
   "metadata": {},
   "outputs": [],
   "source": []
  }
 ],
 "metadata": {
  "kernelspec": {
   "display_name": "Python 3",
   "language": "python",
   "name": "python3"
  },
  "language_info": {
   "codemirror_mode": {
    "name": "ipython",
    "version": 3
   },
   "file_extension": ".py",
   "mimetype": "text/x-python",
   "name": "python",
   "nbconvert_exporter": "python",
   "pygments_lexer": "ipython3",
   "version": "3.7.10"
  }
 },
 "nbformat": 4,
 "nbformat_minor": 5
}
